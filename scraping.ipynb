{
  "nbformat": 4,
  "nbformat_minor": 0,
  "metadata": {
    "colab": {
      "provenance": []
    },
    "kernelspec": {
      "name": "python3",
      "display_name": "Python 3"
    },
    "language_info": {
      "name": "python"
    }
  },
  "cells": [
    {
      "cell_type": "code",
      "source": [
        "import requests\n",
        "from bs4 import BeautifulSoup\n",
        "import pandas as pd\n"
      ],
      "metadata": {
        "id": "HXq4HuyKX1RC"
      },
      "execution_count": 1,
      "outputs": []
    },
    {
      "cell_type": "code",
      "source": [
        "# Website URL\n",
        "url = \"http://books.toscrape.com/\"\n"
      ],
      "metadata": {
        "id": "_QaWMqSTX1Nw"
      },
      "execution_count": 2,
      "outputs": []
    },
    {
      "cell_type": "code",
      "source": [
        "# Send a request to load the page\n",
        "response = requests.get(url)\n",
        "soup = BeautifulSoup(response.content, \"html.parser\")\n"
      ],
      "metadata": {
        "id": "sV4wt-m8X1LQ"
      },
      "execution_count": 3,
      "outputs": []
    },
    {
      "cell_type": "code",
      "source": [
        "# Extract all book items from the page\n",
        "books = soup.find_all(\"article\", class_=\"product_pod\")\n"
      ],
      "metadata": {
        "id": "EjmVZm8vX1Jy"
      },
      "execution_count": 4,
      "outputs": []
    },
    {
      "cell_type": "code",
      "source": [
        "# List to store the book data\n",
        "book_list = []\n"
      ],
      "metadata": {
        "id": "-J_moLqvX1Hd"
      },
      "execution_count": 5,
      "outputs": []
    },
    {
      "cell_type": "code",
      "source": [
        "# Loop through each book and get its data\n",
        "for book in books:\n",
        "    title = book.h3.a[\"title\"]  # Book title\n",
        "    price = book.find(\"p\", class_=\"price_color\").text  # Book price\n",
        "    rating = book.p[\"class\"][1]  # Book rating (e.g. 'Three', 'Four')\n",
        "\n",
        "    # Add the data to our list\n",
        "    book_list.append({\n",
        "        \"Title\": title,\n",
        "        \"Price\": price,\n",
        "        \"Rating\": rating\n",
        "    })"
      ],
      "metadata": {
        "id": "p5oEn16zX1Dr"
      },
      "execution_count": 6,
      "outputs": []
    },
    {
      "cell_type": "code",
      "source": [
        "# Convert the list to a DataFrame (table format)\n",
        "df = pd.DataFrame(book_list)\n",
        "\n",
        "# Print the data and save it to a CSV file\n",
        "print(df)\n",
        "df.to_csv(\"books.csv\", index=False)\n"
      ],
      "metadata": {
        "colab": {
          "base_uri": "https://localhost:8080/"
        },
        "id": "WUrh4ZceX0_S",
        "outputId": "787b84b3-837b-413d-9fee-3581ce49b599"
      },
      "execution_count": 7,
      "outputs": [
        {
          "output_type": "stream",
          "name": "stdout",
          "text": [
            "                                                Title   Price Rating\n",
            "0                                A Light in the Attic  £51.77  Three\n",
            "1                                  Tipping the Velvet  £53.74    One\n",
            "2                                          Soumission  £50.10    One\n",
            "3                                       Sharp Objects  £47.82   Four\n",
            "4               Sapiens: A Brief History of Humankind  £54.23   Five\n",
            "5                                     The Requiem Red  £22.65    One\n",
            "6   The Dirty Little Secrets of Getting Your Dream...  £33.34   Four\n",
            "7   The Coming Woman: A Novel Based on the Life of...  £17.93  Three\n",
            "8   The Boys in the Boat: Nine Americans and Their...  £22.60   Four\n",
            "9                                     The Black Maria  £52.15    One\n",
            "10     Starving Hearts (Triangular Trade Trilogy, #1)  £13.99    Two\n",
            "11                              Shakespeare's Sonnets  £20.66   Four\n",
            "12                                        Set Me Free  £17.46   Five\n",
            "13  Scott Pilgrim's Precious Little Life (Scott Pi...  £52.29   Five\n",
            "14                          Rip it Up and Start Again  £35.02   Five\n",
            "15  Our Band Could Be Your Life: Scenes from the A...  £57.25  Three\n",
            "16                                               Olio  £23.88    One\n",
            "17  Mesaerion: The Best Science Fiction Stories 18...  £37.59    One\n",
            "18                       Libertarianism for Beginners  £51.33    Two\n",
            "19                            It's Only the Himalayas  £45.17    Two\n"
          ]
        }
      ]
    }
  ]
}