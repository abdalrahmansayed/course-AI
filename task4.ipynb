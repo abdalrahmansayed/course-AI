{
  "cells": [
    {
      "cell_type": "markdown",
      "id": "759d04ba",
      "metadata": {
        "id": "759d04ba"
      },
      "source": [
        "**1-Write a Python program to calculate the length of a string using 2 ways"
      ]
    },
    {
      "cell_type": "code",
      "execution_count": null,
      "id": "e434c950",
      "metadata": {
        "id": "e434c950",
        "outputId": "904963ab-e1e3-4d60-bd52-1d0db2c50697",
        "colab": {
          "base_uri": "https://localhost:8080/"
        }
      },
      "outputs": [
        {
          "output_type": "stream",
          "name": "stdout",
          "text": [
            "Enter a string: Happy\n",
            "Length of the string using len(): 5\n"
          ]
        }
      ],
      "source": [
        "# Using len()\n",
        "text = input(\"Enter a string: \")\n",
        "length = len(text)\n",
        "print(\"Length of the string using len():\", length)\n"
      ]
    },
    {
      "cell_type": "code",
      "execution_count": null,
      "id": "7a2dfa32",
      "metadata": {
        "id": "7a2dfa32",
        "outputId": "6a2d2d54-c618-46f0-d889-86192f179060",
        "colab": {
          "base_uri": "https://localhost:8080/"
        }
      },
      "outputs": [
        {
          "output_type": "stream",
          "name": "stdout",
          "text": [
            "Enter a string: Happy\n",
            "Length of the string using loop: 5\n"
          ]
        }
      ],
      "source": [
        "# Using a loop\n",
        "text = input(\"Enter a string: \")\n",
        "count = 0\n",
        "\n",
        "for char in text:\n",
        "    count += 1\n",
        "\n",
        "print(\"Length of the string using loop:\", count)\n"
      ]
    },
    {
      "cell_type": "markdown",
      "id": "d7cc9da7",
      "metadata": {
        "id": "d7cc9da7"
      },
      "source": [
        "**2-Write a Python program to get a string made of the first 2 and last 2 characters of a given string. If the string length is less than 2, return the empty string instead (\"##Sample String : 'w3resource'\n",
        "Expected Result : 'w3ce'\n",
        "##Sample String : 'w3'\n",
        "Expected Result : 'w3w3'\n",
        "##Sample String : ' w'\n",
        "Expected Result : Empty String)"
      ]
    },
    {
      "cell_type": "code",
      "execution_count": null,
      "id": "dafa9dd8",
      "metadata": {
        "id": "dafa9dd8",
        "outputId": "6f30d586-d948-4da9-fa9c-1505903c0530",
        "colab": {
          "base_uri": "https://localhost:8080/"
        }
      },
      "outputs": [
        {
          "output_type": "stream",
          "name": "stdout",
          "text": [
            "Enter a string: w3\n",
            "Result: w3w3\n"
          ]
        }
      ],
      "source": [
        "# Get input from user\n",
        "text = input(\"Enter a string: \")\n",
        "\n",
        "# Check if the string has less than 2 characters or contains spaces\n",
        "if len(text) < 2 or ' ' in text:\n",
        "    result = \"\"\n",
        "else:\n",
        "    result = text[:2] + text[-2:]\n",
        "\n",
        "# Print the result\n",
        "print(\"Result:\", result)\n"
      ]
    },
    {
      "cell_type": "code",
      "source": [
        "# Get input from user\n",
        "text = input(\"Enter a string: \")\n",
        "\n",
        "# Check if the string has less than 2 characters or contains spaces\n",
        "if len(text) < 2 or ' ' in text:\n",
        "    result = \"\"\n",
        "else:\n",
        "    result = text[:2] + text[-2:]\n",
        "\n",
        "# Print the result\n",
        "print(\"Result:\", result)\n"
      ],
      "metadata": {
        "id": "RUpIpYk-Gte-",
        "outputId": "7154f11c-bffc-41c9-dae3-042d73b11f7a",
        "colab": {
          "base_uri": "https://localhost:8080/"
        }
      },
      "id": "RUpIpYk-Gte-",
      "execution_count": null,
      "outputs": [
        {
          "output_type": "stream",
          "name": "stdout",
          "text": [
            "Enter a string: w\n",
            "Result: \n"
          ]
        }
      ]
    },
    {
      "cell_type": "markdown",
      "id": "1534f956",
      "metadata": {
        "id": "1534f956"
      },
      "source": [
        "**3-Write a Python program to add 'ing' at the end of a given string (length should be at least 3). If the given string already ends with 'ing', add 'ly' instead. If the string length of the given string is less than 3, leave it unchanged. (Sample String : 'abc'\n",
        "Expected Result : 'abcing')"
      ]
    },
    {
      "cell_type": "code",
      "execution_count": null,
      "id": "7ff8cec4",
      "metadata": {
        "id": "7ff8cec4",
        "outputId": "911cf6b0-4c29-480e-af44-ecb918f0c94d",
        "colab": {
          "base_uri": "https://localhost:8080/"
        }
      },
      "outputs": [
        {
          "output_type": "stream",
          "name": "stdout",
          "text": [
            "Enter a string: abc\n",
            "Result: abcing\n"
          ]
        }
      ],
      "source": [
        "# Get input from user\n",
        "text = input(\"Enter a string: \")\n",
        "\n",
        "# Check the length of the string\n",
        "if len(text) < 3:\n",
        "    result = text\n",
        "elif text.endswith(\"ing\"):\n",
        "    result = text + \"ly\"\n",
        "else:\n",
        "    result = text + \"ing\"\n",
        "\n",
        "# Print the result\n",
        "print(\"Result:\", result)\n"
      ]
    },
    {
      "cell_type": "markdown",
      "id": "1c0a6627",
      "metadata": {
        "id": "1c0a6627"
      },
      "source": [
        "**4-Write a Python function that takes a list of words and return the longest word and the length of the longest one\n",
        "(Longest word: Exercises\n",
        "Length of the longest word: 9)"
      ]
    },
    {
      "cell_type": "code",
      "execution_count": null,
      "id": "397341d9",
      "metadata": {
        "id": "397341d9",
        "outputId": "c9e52a5b-6e4c-4aad-9ae3-25a030d5778a",
        "colab": {
          "base_uri": "https://localhost:8080/"
        }
      },
      "outputs": [
        {
          "output_type": "stream",
          "name": "stdout",
          "text": [
            "Longest word: Exercises\n",
            "Length of the longest word: 9\n"
          ]
        }
      ],
      "source": [
        "def find_longest_word(word_list):\n",
        "    longest = max(word_list, key=len)\n",
        "    return longest, len(longest)\n",
        "\n",
        "# Example usage\n",
        "words = [\"Python\", \"Exercises\", \"Data\", \"Science\"]\n",
        "longest_word, length = find_longest_word(words)\n",
        "\n",
        "print(\"Longest word:\", longest_word)\n",
        "print(\"Length of the longest word:\", length)\n"
      ]
    },
    {
      "cell_type": "markdown",
      "id": "53a03a6a",
      "metadata": {
        "id": "53a03a6a"
      },
      "source": [
        "**5-Write a Python program to change a given string to a newly string where the first and last chars have been exchanged using 2 ways (Sample String:abca  Expected Result:ebce)"
      ]
    },
    {
      "cell_type": "code",
      "execution_count": null,
      "id": "fd327d2a",
      "metadata": {
        "id": "fd327d2a",
        "outputId": "aae91aa9-b9e5-4e5b-f073-317c9ca52334",
        "colab": {
          "base_uri": "https://localhost:8080/"
        }
      },
      "outputs": [
        {
          "output_type": "stream",
          "name": "stdout",
          "text": [
            "Enter a string: abca\n",
            "Result : abca\n"
          ]
        }
      ],
      "source": [
        "# Get input from user\n",
        "text = input(\"Enter a string: \")\n",
        "\n",
        "# Check if the string length is less than 2\n",
        "if len(text) < 2:\n",
        "    result = text\n",
        "else:\n",
        "    result = text[-1] + text[1:-1] + text[0]\n",
        "\n",
        "print(\"Result :\", result)\n"
      ]
    },
    {
      "cell_type": "code",
      "execution_count": null,
      "id": "285788b4",
      "metadata": {
        "id": "285788b4",
        "outputId": "1b3495e7-38a2-4e9e-f967-4ee001ede1c8",
        "colab": {
          "base_uri": "https://localhost:8080/"
        }
      },
      "outputs": [
        {
          "output_type": "stream",
          "name": "stdout",
          "text": [
            "Enter a string: ebce\n",
            "Result : ebce\n"
          ]
        }
      ],
      "source": [
        "# Get input from user\n",
        "text = input(\"Enter a string: \")\n",
        "\n",
        "# Check if the string length is less than 2\n",
        "if len(text) < 2:\n",
        "    result = text\n",
        "else:\n",
        "    chars = list(text)\n",
        "    chars[0], chars[-1] = chars[-1], chars[0]\n",
        "    result = ''.join(chars)\n",
        "\n",
        "print(\"Result :\", result)\n"
      ]
    },
    {
      "cell_type": "markdown",
      "id": "25f89808",
      "metadata": {
        "id": "25f89808"
      },
      "source": [
        "\\**6-Write a Python program to remove characters that have odd index values in a given string (Sample String:abca Expected Result:ac)\n",
        "\n",
        "\n"
      ]
    },
    {
      "cell_type": "code",
      "execution_count": null,
      "id": "05959bd7",
      "metadata": {
        "id": "05959bd7",
        "outputId": "33babf6e-3e5a-4949-dd75-301df5520194",
        "colab": {
          "base_uri": "https://localhost:8080/"
        }
      },
      "outputs": [
        {
          "output_type": "stream",
          "name": "stdout",
          "text": [
            "Enter a string: abca\n",
            "Result: ac\n"
          ]
        }
      ],
      "source": [
        "# Get input from user\n",
        "text = input(\"Enter a string: \")\n",
        "\n",
        "# Keep only characters at even indexes (0, 2, 4, ...)\n",
        "result = text[::2]\n",
        "\n",
        "print(\"Result:\", result)\n"
      ]
    },
    {
      "cell_type": "markdown",
      "id": "eb16e898",
      "metadata": {
        "id": "eb16e898"
      },
      "source": [
        "**7-Write a Python program to count the occurrences of each word in a given sentence (Sample String:amr and ahmed are frindes but amr is the tallest Expected Result:2)"
      ]
    },
    {
      "cell_type": "code",
      "execution_count": null,
      "id": "01ce6cf5",
      "metadata": {
        "id": "01ce6cf5",
        "outputId": "b712e73b-075d-4ece-cf84-48e6adb61a90",
        "colab": {
          "base_uri": "https://localhost:8080/"
        }
      },
      "outputs": [
        {
          "output_type": "stream",
          "name": "stdout",
          "text": [
            "Enter a sentence: amr\n",
            "Word occurrences:\n",
            "amr: 1\n",
            "\n",
            "Occurrences of 'amr': 1\n"
          ]
        }
      ],
      "source": [
        "# Get input sentence from user\n",
        "sentence = input(\"Enter a sentence: \")\n",
        "\n",
        "# Convert sentence to lowercase to make counting case-insensitive\n",
        "sentence = sentence.lower()\n",
        "\n",
        "# Split sentence into words\n",
        "words = sentence.split()\n",
        "\n",
        "# Create a dictionary to store word counts\n",
        "word_count = {}\n",
        "\n",
        "# Count each word\n",
        "for word in words:\n",
        "    if word in word_count:\n",
        "        word_count[word] += 1\n",
        "    else:\n",
        "        word_count[word] = 1\n",
        "\n",
        "# Print all word counts\n",
        "print(\"Word occurrences:\")\n",
        "for word, count in word_count.items():\n",
        "    print(f\"{word}: {count}\")\n",
        "\n",
        "# Optional: Get the count for a specific word\n",
        "search_word = \"amr\"\n",
        "print(f\"\\nOccurrences of '{search_word}':\", word_count.get(search_word, 0))\n"
      ]
    },
    {
      "cell_type": "markdown",
      "id": "4e8125f1",
      "metadata": {
        "id": "4e8125f1"
      },
      "source": [
        "**8-Write a Python script that takes input from the user and displays that input back in upper and lower cases"
      ]
    },
    {
      "cell_type": "code",
      "execution_count": null,
      "id": "66c8f778",
      "metadata": {
        "id": "66c8f778",
        "outputId": "9ea22ba0-cec1-4933-f7af-bc10352731a2",
        "colab": {
          "base_uri": "https://localhost:8080/"
        }
      },
      "outputs": [
        {
          "output_type": "stream",
          "name": "stdout",
          "text": [
            "Enter a string: ABdalrAHMAN\n",
            "Uppercase: ABDALRAHMAN\n",
            "Lowercase: abdalrahman\n"
          ]
        }
      ],
      "source": [
        "# Get input from the user\n",
        "text = input(\"Enter a string: \")\n",
        "\n",
        "# Convert and display in uppercase\n",
        "print(\"Uppercase:\", text.upper())\n",
        "\n",
        "# Convert and display in lowercase\n",
        "print(\"Lowercase:\", text.lower())\n"
      ]
    },
    {
      "cell_type": "markdown",
      "id": "fcd68aa1",
      "metadata": {
        "id": "fcd68aa1"
      },
      "source": [
        "**9-Write a Python function to reverse a string if its length is a multiple of 4"
      ]
    },
    {
      "cell_type": "code",
      "execution_count": null,
      "id": "0671a931",
      "metadata": {
        "id": "0671a931",
        "outputId": "c8f74581-1828-42e8-ea46-30d9d77f5b83",
        "colab": {
          "base_uri": "https://localhost:8080/"
        }
      },
      "outputs": [
        {
          "output_type": "stream",
          "name": "stdout",
          "text": [
            "Enter a string: help\n",
            "Result: pleh\n"
          ]
        }
      ],
      "source": [
        "def reverse_if_multiple_of_4(text):\n",
        "    if len(text) % 4 == 0:\n",
        "        return text[::-1]\n",
        "    else:\n",
        "        return text\n",
        "\n",
        "user_input = input(\"Enter a string: \")\n",
        "result = reverse_if_multiple_of_4(user_input)\n",
        "print(\"Result:\", result)\n"
      ]
    },
    {
      "cell_type": "markdown",
      "id": "b577c68d",
      "metadata": {
        "id": "b577c68d"
      },
      "source": [
        "**10- Write a Python program to remove a newline in Python"
      ]
    },
    {
      "cell_type": "code",
      "execution_count": null,
      "id": "e0c6525a",
      "metadata": {
        "id": "e0c6525a",
        "outputId": "dc15a5bd-7706-4b4e-d3f1-a27af2bd2b53",
        "colab": {
          "base_uri": "https://localhost:8080/"
        }
      },
      "outputs": [
        {
          "output_type": "stream",
          "name": "stdout",
          "text": [
            "Enter a string : Hello\\nWorld\n",
            "Text without newlines: Hello\\nWorld\n"
          ]
        }
      ],
      "source": [
        "# Get input from user (simulate a string with newlines)\n",
        "text = input(\"Enter a string : \")\n",
        "\n",
        "# Remove all newline characters\n",
        "cleaned_text = text.replace('\\n', '')\n",
        "\n",
        "# Print the result\n",
        "print(\"Text without newlines:\", cleaned_text)"
      ]
    },
    {
      "cell_type": "markdown",
      "id": "80db5ae0",
      "metadata": {
        "id": "80db5ae0"
      },
      "source": [
        "**11-Write a Python program to check whether a string starts with specified characters"
      ]
    },
    {
      "cell_type": "code",
      "execution_count": null,
      "id": "0cc4e03e",
      "metadata": {
        "id": "0cc4e03e",
        "outputId": "71ddbd52-b3b0-4a34-daaf-df5c5fc62266",
        "colab": {
          "base_uri": "https://localhost:8080/"
        }
      },
      "outputs": [
        {
          "output_type": "stream",
          "name": "stdout",
          "text": [
            "Enter a string: Hello World\n",
            "Enter the starting characters to check: Hello\n",
            "Yes, the string starts with 'Hello'.\n"
          ]
        }
      ],
      "source": [
        "# Get input from user\n",
        "text = input(\"Enter a string: \")\n",
        "\n",
        "# Get the prefix to check\n",
        "prefix = input(\"Enter the starting characters to check: \")\n",
        "\n",
        "# Check if the string starts with the specified characters\n",
        "if text.startswith(prefix):\n",
        "    print(f\"Yes, the string starts with '{prefix}'.\")\n",
        "else:\n",
        "    print(f\"No, the string does not start with '{prefix}'.\")\n"
      ]
    },
    {
      "cell_type": "markdown",
      "id": "593a68db",
      "metadata": {
        "id": "593a68db"
      },
      "source": [
        "**12- Write a Python program to add prefix text to all of the lines in a string"
      ]
    },
    {
      "cell_type": "code",
      "execution_count": null,
      "id": "d2e46ada",
      "metadata": {
        "id": "d2e46ada",
        "outputId": "3bf31e6f-92ed-4ec9-d8f7-3b3aec723bee",
        "colab": {
          "base_uri": "https://localhost:8080/"
        }
      },
      "outputs": [
        {
          "output_type": "stream",
          "name": "stdout",
          "text": [
            "Enter multiple lines (use \\n for new lines): one\n",
            "Enter prefix: 2\n",
            "\n",
            "Result:\n",
            " 2one\n"
          ]
        }
      ],
      "source": [
        "# Sample multi-line string\n",
        "text = input(\"Enter multiple lines (use \\\\n for new lines): \")\n",
        "prefix = input(\"Enter prefix: \")\n",
        "prefixed_text = '\\n'.join(prefix + line for line in text.splitlines())\n",
        "print(\"\\nResult:\\n\", prefixed_text)\n"
      ]
    },
    {
      "cell_type": "markdown",
      "source": [
        "**13-Write a Python program to print the following numbers up to 2 decimal places"
      ],
      "metadata": {
        "id": "BtCDGpgUSKCk"
      },
      "id": "BtCDGpgUSKCk"
    },
    {
      "cell_type": "code",
      "execution_count": null,
      "id": "cd4a9d89",
      "metadata": {
        "id": "cd4a9d89",
        "outputId": "6f646170-27b3-44f6-9b3e-4fb5edc1bdea",
        "colab": {
          "base_uri": "https://localhost:8080/"
        }
      },
      "outputs": [
        {
          "output_type": "stream",
          "name": "stdout",
          "text": [
            "Enter a number: 12.45678\n",
            "Using format(): 12.46\n",
            "Using f-string: 12.46\n",
            "Using round(): 12.46\n"
          ]
        }
      ],
      "source": [
        "# Example number\n",
        "number = float(input(\"Enter a number: \"))\n",
        "\n",
        "# Method 1: Using format() function\n",
        "print(\"Using format(): {:.2f}\".format(number))\n",
        "\n",
        "# Method 2: Using f-string (Python 3.6+)\n",
        "print(f\"Using f-string: {number:.2f}\")\n",
        "\n",
        "# Method 3: Using round() function (note: returns float, not string formatting)\n",
        "print(\"Using round():\", round(number, 2))\n"
      ]
    },
    {
      "cell_type": "markdown",
      "id": "452c0ab0",
      "metadata": {
        "id": "452c0ab0"
      },
      "source": [
        "**14-Write a Python program to print the following numbers up to 2 decimal places with a sign\n"
      ]
    },
    {
      "cell_type": "code",
      "execution_count": null,
      "id": "73e82479",
      "metadata": {
        "id": "73e82479",
        "outputId": "339a384e-96b0-4019-a1c5-bbb820aa444a",
        "colab": {
          "base_uri": "https://localhost:8080/"
        }
      },
      "outputs": [
        {
          "output_type": "stream",
          "name": "stdout",
          "text": [
            "Enter a number:  +12.46\n",
            "Using format(): +12.46\n",
            "Using f-string: +12.46\n"
          ]
        }
      ],
      "source": [
        "# Get input from the user\n",
        "number = float(input(\"Enter a number: \"))\n",
        "\n",
        "# Method 1: Using format() with sign\n",
        "print(\"Using format(): {:+.2f}\".format(number))\n",
        "\n",
        "# Method 2: Using f-string with sign\n",
        "print(f\"Using f-string: {number:+.2f}\")\n"
      ]
    },
    {
      "cell_type": "markdown",
      "id": "32b1811a",
      "metadata": {
        "id": "32b1811a"
      },
      "source": [
        "**15-Write a Python program to display a number with a comma separator"
      ]
    },
    {
      "cell_type": "code",
      "execution_count": null,
      "id": "f30fc0b6",
      "metadata": {
        "id": "f30fc0b6",
        "outputId": "4dc08728-5281-4723-c01f-2e0ee0711ace",
        "colab": {
          "base_uri": "https://localhost:8080/"
        }
      },
      "outputs": [
        {
          "output_type": "stream",
          "name": "stdout",
          "text": [
            "Enter a number: 1000000\n",
            "Using format(): 1,000,000\n",
            "Using f-string: 1,000,000\n"
          ]
        }
      ],
      "source": [
        "# Get input from user\n",
        "number = int(input(\"Enter a number: \"))\n",
        "\n",
        "# Method 1: Using format()\n",
        "print(\"Using format(): {:,}\".format(number))\n",
        "\n",
        "# Method 2: Using f-string\n",
        "print(f\"Using f-string: {number:,}\")\n"
      ]
    },
    {
      "cell_type": "markdown",
      "id": "0477f487",
      "metadata": {
        "id": "0477f487"
      },
      "source": [
        "**16-Write a Python program to reverse a string using 2 ways"
      ]
    },
    {
      "cell_type": "code",
      "execution_count": null,
      "id": "aa8beec8",
      "metadata": {
        "id": "aa8beec8",
        "outputId": "22bcb9a3-cfad-49f9-ef1a-4eef12e53d7c",
        "colab": {
          "base_uri": "https://localhost:8080/"
        }
      },
      "outputs": [
        {
          "output_type": "stream",
          "name": "stdout",
          "text": [
            "Enter a string: hello\n",
            "Reversed using slicing: olleh\n"
          ]
        }
      ],
      "source": [
        "# Get input from user\n",
        "text = input(\"Enter a string: \")\n",
        "\n",
        "# Reverse using slicing\n",
        "reversed_text = text[::-1]\n",
        "\n",
        "print(\"Reversed using slicing:\", reversed_text)\n"
      ]
    },
    {
      "cell_type": "code",
      "source": [
        "# Get input from user\n",
        "text = input(\"Enter a string: \")\n",
        "\n",
        "# Reverse using a loop\n",
        "reversed_text = \"\"\n",
        "for char in text:\n",
        "    reversed_text = char + reversed_text\n",
        "\n",
        "print(\"Reversed using loop:\", reversed_text)\n"
      ],
      "metadata": {
        "id": "9FUNW08HTBLT",
        "outputId": "374c4368-d3c4-4553-b37f-0a8409cde5f8",
        "colab": {
          "base_uri": "https://localhost:8080/"
        }
      },
      "id": "9FUNW08HTBLT",
      "execution_count": null,
      "outputs": [
        {
          "output_type": "stream",
          "name": "stdout",
          "text": [
            "Enter a string: hello\n",
            "Reversed using loop: olleh\n"
          ]
        }
      ]
    },
    {
      "cell_type": "markdown",
      "id": "5afc3166",
      "metadata": {
        "id": "5afc3166"
      },
      "source": [
        " **17-Write a Python program to count repeated characters in a string (hint:use dictionary)"
      ]
    },
    {
      "cell_type": "code",
      "execution_count": null,
      "id": "515a469c",
      "metadata": {
        "id": "515a469c",
        "outputId": "8cc8450a-72c2-435b-ae57-d38607d6c9b5",
        "colab": {
          "base_uri": "https://localhost:8080/"
        }
      },
      "outputs": [
        {
          "output_type": "stream",
          "name": "stdout",
          "text": [
            "Enter a string: programming\n",
            "Repeated characters:\n",
            "r: 2\n",
            "g: 2\n",
            "m: 2\n"
          ]
        }
      ],
      "source": [
        "# Get input from user\n",
        "text = input(\"Enter a string: \")\n",
        "\n",
        "# Create an empty dictionary to store character counts\n",
        "char_count = {}\n",
        "\n",
        "# Loop through each character in the string\n",
        "for char in text:\n",
        "    if char in char_count:\n",
        "        char_count[char] += 1\n",
        "    else:\n",
        "        char_count[char] = 1\n",
        "\n",
        "# Print only characters that are repeated\n",
        "print(\"Repeated characters:\")\n",
        "for char, count in char_count.items():\n",
        "    if count > 1:\n",
        "        print(f\"{char}: {count}\")\n"
      ]
    },
    {
      "cell_type": "markdown",
      "id": "ae14e4e5",
      "metadata": {
        "id": "ae14e4e5"
      },
      "source": [
        "**18-Write a Python program to find the first non-repeating character in a given string"
      ]
    },
    {
      "cell_type": "code",
      "execution_count": null,
      "id": "d73778e5",
      "metadata": {
        "id": "d73778e5",
        "outputId": "4591fd3d-47f8-4007-e3ac-97e47987b2d1",
        "colab": {
          "base_uri": "https://localhost:8080/"
        }
      },
      "outputs": [
        {
          "output_type": "stream",
          "name": "stdout",
          "text": [
            "Enter a string: aabbcc\t\n",
            "First non-repeating character: \t\n"
          ]
        }
      ],
      "source": [
        "def first_non_repeating_char(text):\n",
        "    # Create a dictionary to count character occurrences\n",
        "    char_count = {}\n",
        "\n",
        "    # Count each character\n",
        "    for char in text:\n",
        "        char_count[char] = char_count.get(char, 0) + 1\n",
        "\n",
        "    # Find the first character with count 1\n",
        "    for char in text:\n",
        "        if char_count[char] == 1:\n",
        "            return char\n",
        "\n",
        "    return None  # If all characters are repeating\n",
        "\n",
        "# Get input from the user\n",
        "input_string = input(\"Enter a string: \")\n",
        "\n",
        "# Find and display the result\n",
        "result = first_non_repeating_char(input_string)\n",
        "\n",
        "if result:\n",
        "    print(\"First non-repeating character:\", result)\n",
        "else:\n",
        "    print(\"No non-repeating character found.\")\n"
      ]
    },
    {
      "cell_type": "markdown",
      "id": "3adf5669",
      "metadata": {
        "id": "3adf5669"
      },
      "source": [
        "**19-Write a Python program to remove spaces from a given string"
      ]
    },
    {
      "cell_type": "code",
      "execution_count": null,
      "id": "b4f22602",
      "metadata": {
        "id": "b4f22602",
        "outputId": "bc889e70-5d23-4104-bcb1-ff6004046cd8",
        "colab": {
          "base_uri": "https://localhost:8080/"
        }
      },
      "outputs": [
        {
          "output_type": "stream",
          "name": "stdout",
          "text": [
            "Enter a string: ahmed is fun\n",
            "String without spaces: ahmedisfun\n"
          ]
        }
      ],
      "source": [
        "# Get input from user\n",
        "text = input(\"Enter a string: \")\n",
        "\n",
        "# Remove all spaces\n",
        "no_spaces = text.replace(\" \", \"\")\n",
        "\n",
        "# Print the result\n",
        "print(\"String without spaces:\", no_spaces)\n"
      ]
    },
    {
      "cell_type": "markdown",
      "id": "734de60c",
      "metadata": {
        "id": "734de60c"
      },
      "source": [
        "**20-Write a Python program to count the number of non-empty substrings of a given string"
      ]
    },
    {
      "cell_type": "code",
      "execution_count": null,
      "id": "ef3f2274",
      "metadata": {
        "id": "ef3f2274",
        "outputId": "a4b99a7c-6555-4205-caf7-ce63853209e4",
        "colab": {
          "base_uri": "https://localhost:8080/"
        }
      },
      "outputs": [
        {
          "output_type": "stream",
          "name": "stdout",
          "text": [
            "Enter a string: abc\n",
            "Number of non-empty substrings: 6\n"
          ]
        }
      ],
      "source": [
        "# Get input from user\n",
        "text = input(\"Enter a string: \")\n",
        "\n",
        "# Length of the string\n",
        "n = len(text)\n",
        "\n",
        "\n",
        "count = n * (n + 1) // 2\n",
        "\n",
        "print(\"Number of non-empty substrings:\", count)\n"
      ]
    },
    {
      "cell_type": "markdown",
      "id": "509998e2",
      "metadata": {
        "id": "509998e2"
      },
      "source": [
        "**21-write a Python program to swap first and last element of any list."
      ]
    },
    {
      "cell_type": "code",
      "execution_count": null,
      "id": "68692d7f",
      "metadata": {
        "id": "68692d7f",
        "outputId": "e456ebc7-4d70-4322-c720-40d5cb8a9c46",
        "colab": {
          "base_uri": "https://localhost:8080/"
        }
      },
      "outputs": [
        {
          "output_type": "stream",
          "name": "stdout",
          "text": [
            "Enter list elements separated by spaces: a b c d\n",
            "Original list: ['a', 'b', 'c', 'd']\n",
            "List after swapping first and last: ['d', 'b', 'c', 'a']\n"
          ]
        }
      ],
      "source": [
        "# Function to swap first and last elements\n",
        "def swap_first_last(lst):\n",
        "    if len(lst) < 2:\n",
        "        return lst  # No need to swap if list has 0 or 1 element\n",
        "    lst[0], lst[-1] = lst[-1], lst[0]\n",
        "    return lst\n",
        "\n",
        "# Example usage\n",
        "my_list = input(\"Enter list elements separated by spaces: \").split()\n",
        "print(\"Original list:\", my_list)\n",
        "\n",
        "# Swap first and last\n",
        "swapped_list = swap_first_last(my_list)\n",
        "print(\"List after swapping first and last:\", swapped_list)\n"
      ]
    },
    {
      "cell_type": "markdown",
      "id": "959e0837",
      "metadata": {
        "id": "959e0837"
      },
      "source": [
        "**22-Given a list in Python and provided the positions of the elements, write a program to swap the two elements in the list. (Input : List = [23, 65, 19, 90], pos1 = 1, pos2 = 3\n",
        "Output : [19, 65, 23, 90])"
      ]
    },
    {
      "cell_type": "code",
      "execution_count": null,
      "id": "225d8c6d",
      "metadata": {
        "id": "225d8c6d",
        "outputId": "aa8ea481-d529-4bd9-aef3-34eefee489e9",
        "colab": {
          "base_uri": "https://localhost:8080/"
        }
      },
      "outputs": [
        {
          "output_type": "stream",
          "name": "stdout",
          "text": [
            "Enter position 1: 1\n",
            "Enter position 2: 3\n",
            "Original list: [23, 65, 19, 90]\n",
            "List after swapping: [19, 65, 23, 90]\n"
          ]
        }
      ],
      "source": [
        "# Function to swap elements at given positions\n",
        "def swap_elements(lst, pos1, pos2):\n",
        "    # Subtract 1 from positions to convert to 0-based index\n",
        "    lst[pos1 - 1], lst[pos2 - 1] = lst[pos2 - 1], lst[pos1 - 1]\n",
        "    return lst\n",
        "\n",
        "# Example list\n",
        "my_list = [23, 65, 19, 90]\n",
        "\n",
        "# Input positions from user\n",
        "pos1 = int(input(\"Enter position 1: \"))\n",
        "pos2 = int(input(\"Enter position 2: \"))\n",
        "\n",
        "print(\"Original list:\", my_list)\n",
        "\n",
        "# Swap and show result\n",
        "swapped_list = swap_elements(my_list, pos1, pos2)\n",
        "print(\"List after swapping:\", swapped_list)\n"
      ]
    },
    {
      "cell_type": "markdown",
      "id": "66fc6682",
      "metadata": {
        "id": "66fc6682"
      },
      "source": [
        "**23- search for the all ways to know the length of the list"
      ]
    },
    {
      "cell_type": "code",
      "source": [
        "my_list = [1, 2, 3, 4, 5]\n",
        "length = len(my_list)\n",
        "print(\"Length using len():\", length)\n"
      ],
      "metadata": {
        "id": "pSsBMKb-Ut-G",
        "outputId": "b93f0a92-84e9-417c-970f-ccf17f9a237b",
        "colab": {
          "base_uri": "https://localhost:8080/"
        }
      },
      "id": "pSsBMKb-Ut-G",
      "execution_count": null,
      "outputs": [
        {
          "output_type": "stream",
          "name": "stdout",
          "text": [
            "Length using len(): 5\n"
          ]
        }
      ]
    },
    {
      "cell_type": "code",
      "source": [
        "my_list = [1, 2, 3, 4, 5]\n",
        "count = 0\n",
        "for _ in my_list:\n",
        "    count += 1\n",
        "print(\"Length using loop:\", count)\n"
      ],
      "metadata": {
        "id": "r3Hpbh-IUvS0",
        "outputId": "4b1c3302-69dc-4cad-b6c0-0f761e569798",
        "colab": {
          "base_uri": "https://localhost:8080/"
        }
      },
      "id": "r3Hpbh-IUvS0",
      "execution_count": null,
      "outputs": [
        {
          "output_type": "stream",
          "name": "stdout",
          "text": [
            "Length using loop: 5\n"
          ]
        }
      ]
    },
    {
      "cell_type": "code",
      "source": [
        "my_list = [1, 2, 3, 4, 5]\n",
        "for index, _ in enumerate(my_list, start=1):\n",
        "    pass\n",
        "print(\"Length using enumerate():\", index)\n"
      ],
      "metadata": {
        "id": "_2wr3LFoUxy8",
        "outputId": "ebf3b2cb-93d5-4b83-b59f-3f2d507dd2ef",
        "colab": {
          "base_uri": "https://localhost:8080/"
        }
      },
      "id": "_2wr3LFoUxy8",
      "execution_count": null,
      "outputs": [
        {
          "output_type": "stream",
          "name": "stdout",
          "text": [
            "Length using enumerate(): 5\n"
          ]
        }
      ]
    },
    {
      "cell_type": "code",
      "source": [
        "my_list = [1, 2, 3, 4, 5]\n",
        "length = sum(1 for _ in my_list)\n",
        "print(\"Length using sum() and generator:\", length)\n"
      ],
      "metadata": {
        "id": "mRZ8cX9VUzJZ",
        "outputId": "250d53b1-1a81-474c-dcd7-a527ad44d012",
        "colab": {
          "base_uri": "https://localhost:8080/"
        }
      },
      "id": "mRZ8cX9VUzJZ",
      "execution_count": null,
      "outputs": [
        {
          "output_type": "stream",
          "name": "stdout",
          "text": [
            "Length using sum() and generator: 5\n"
          ]
        }
      ]
    },
    {
      "cell_type": "code",
      "source": [
        "from functools import reduce\n",
        "\n",
        "my_list = [1, 2, 3, 4, 5]\n",
        "length = reduce(lambda total, _: total + 1, my_list, 0)\n",
        "print(\"Length using reduce():\", length)\n"
      ],
      "metadata": {
        "id": "Mx7PYuxfU0go",
        "outputId": "d26acc7d-ab45-4b92-b49d-8bee4856faa3",
        "colab": {
          "base_uri": "https://localhost:8080/"
        }
      },
      "id": "Mx7PYuxfU0go",
      "execution_count": null,
      "outputs": [
        {
          "output_type": "stream",
          "name": "stdout",
          "text": [
            "Length using reduce(): 5\n"
          ]
        }
      ]
    },
    {
      "cell_type": "code",
      "source": [
        "def list_length(lst):\n",
        "    if not lst:\n",
        "        return 0\n",
        "    return 1 + list_length(lst[1:])\n",
        "\n",
        "my_list = [1, 2, 3, 4, 5]\n",
        "print(\"Length using recursion:\", list_length(my_list))\n"
      ],
      "metadata": {
        "id": "1GxuAl71U10s",
        "outputId": "53cb83ae-113b-4bbb-f5c2-c3cab97f8a88",
        "colab": {
          "base_uri": "https://localhost:8080/"
        }
      },
      "id": "1GxuAl71U10s",
      "execution_count": null,
      "outputs": [
        {
          "output_type": "stream",
          "name": "stdout",
          "text": [
            "Length using recursion: 5\n"
          ]
        }
      ]
    },
    {
      "cell_type": "markdown",
      "source": [
        "**24-write a Python code to find the Maximum number of list of numbers."
      ],
      "metadata": {
        "id": "5BSAIFBDU6a9"
      },
      "id": "5BSAIFBDU6a9"
    },
    {
      "cell_type": "code",
      "execution_count": null,
      "id": "63ff8b43",
      "metadata": {
        "id": "63ff8b43",
        "outputId": "aad5d0a1-ef2e-4c63-abef-942dadb03c5b",
        "colab": {
          "base_uri": "https://localhost:8080/"
        }
      },
      "outputs": [
        {
          "output_type": "stream",
          "name": "stdout",
          "text": [
            "Maximum number (using max()): 90\n"
          ]
        }
      ],
      "source": [
        "numbers = [23, 65, 19, 90, 34]\n",
        "maximum = max(numbers)\n",
        "print(\"Maximum number (using max()):\", maximum)\n"
      ]
    },
    {
      "cell_type": "code",
      "execution_count": null,
      "id": "15f342de",
      "metadata": {
        "id": "15f342de",
        "outputId": "129d7307-827e-4720-9ab2-9d18a46ee5a2",
        "colab": {
          "base_uri": "https://localhost:8080/"
        }
      },
      "outputs": [
        {
          "output_type": "stream",
          "name": "stdout",
          "text": [
            "Maximum number (using loop): 90\n"
          ]
        }
      ],
      "source": [
        "numbers = [23, 65, 19, 90, 34]\n",
        "max_num = numbers[0]\n",
        "\n",
        "for num in numbers:\n",
        "    if num > max_num:\n",
        "        max_num = num\n",
        "\n",
        "print(\"Maximum number (using loop):\", max_num)\n"
      ]
    },
    {
      "cell_type": "code",
      "source": [
        "numbers = [23, 65, 19, 90, 34]\n",
        "maximum = sorted(numbers)[-1]\n",
        "print(\"Maximum number (using sorted()):\", maximum)\n"
      ],
      "metadata": {
        "id": "SK2pt779VTES",
        "outputId": "ed6d805e-06ea-4901-ec79-54514ee6d3d6",
        "colab": {
          "base_uri": "https://localhost:8080/"
        }
      },
      "id": "SK2pt779VTES",
      "execution_count": null,
      "outputs": [
        {
          "output_type": "stream",
          "name": "stdout",
          "text": [
            "Maximum number (using sorted()): 90\n"
          ]
        }
      ]
    },
    {
      "cell_type": "markdown",
      "source": [
        "**25-write a Python code to find the Minimum number of list of numbers.\n"
      ],
      "metadata": {
        "id": "AihyDihVVV80"
      },
      "id": "AihyDihVVV80"
    },
    {
      "cell_type": "code",
      "execution_count": null,
      "id": "1a89b9d3",
      "metadata": {
        "id": "1a89b9d3",
        "outputId": "ff6ba175-fcd8-4973-ee4d-7d57388bb5b2",
        "colab": {
          "base_uri": "https://localhost:8080/"
        }
      },
      "outputs": [
        {
          "output_type": "stream",
          "name": "stdout",
          "text": [
            "Minimum number (using min()): 19\n"
          ]
        }
      ],
      "source": [
        "numbers = [23, 65, 19, 90, 34]\n",
        "minimum = min(numbers)\n",
        "print(\"Minimum number (using min()):\", minimum)\n"
      ]
    },
    {
      "cell_type": "code",
      "execution_count": null,
      "id": "21f8cbd6",
      "metadata": {
        "id": "21f8cbd6",
        "outputId": "af1a722f-2070-4b3f-a217-55063788106c",
        "colab": {
          "base_uri": "https://localhost:8080/"
        }
      },
      "outputs": [
        {
          "output_type": "stream",
          "name": "stdout",
          "text": [
            "Minimum number (using loop): 19\n"
          ]
        }
      ],
      "source": [
        "numbers = [23, 65, 19, 90, 34]\n",
        "min_num = numbers[0]\n",
        "\n",
        "for num in numbers:\n",
        "    if num < min_num:\n",
        "        min_num = num\n",
        "\n",
        "print(\"Minimum number (using loop):\", min_num)\n"
      ]
    },
    {
      "cell_type": "code",
      "source": [
        "numbers = [23, 65, 19, 90, 34]\n",
        "minimum = sorted(numbers)[0]\n",
        "print(\"Minimum number (using sorted()):\", minimum)\n"
      ],
      "metadata": {
        "id": "gJHowqz8Vfot",
        "outputId": "fbe33275-b377-44dd-cd4f-57759948d6cb",
        "colab": {
          "base_uri": "https://localhost:8080/"
        }
      },
      "id": "gJHowqz8Vfot",
      "execution_count": null,
      "outputs": [
        {
          "output_type": "stream",
          "name": "stdout",
          "text": [
            "Minimum number (using sorted()): 19\n"
          ]
        }
      ]
    },
    {
      "cell_type": "markdown",
      "id": "96822d96",
      "metadata": {
        "id": "96822d96"
      },
      "source": [
        "**26-search for if an elem is existing in list"
      ]
    },
    {
      "cell_type": "code",
      "execution_count": null,
      "id": "51ca5c9a",
      "metadata": {
        "id": "51ca5c9a",
        "outputId": "faa709b9-5b45-4c73-98e7-9282223e8f24",
        "colab": {
          "base_uri": "https://localhost:8080/"
        }
      },
      "outputs": [
        {
          "output_type": "stream",
          "name": "stdout",
          "text": [
            "Enter the element to search: 30 \n",
            "30 exists in the list.\n"
          ]
        }
      ],
      "source": [
        "my_list = [10, 20, 30, 40, 50]\n",
        "element = int(input(\"Enter the element to search: \"))\n",
        "\n",
        "if element in my_list:\n",
        "    print(f\"{element} exists in the list.\")\n",
        "else:\n",
        "    print(f\"{element} does not exist in the list.\")\n"
      ]
    },
    {
      "cell_type": "code",
      "source": [
        "my_list = [10, 20, 30, 40, 50]\n",
        "element = int(input(\"Enter the element to search: \"))\n",
        "\n",
        "found = False\n",
        "for item in my_list:\n",
        "    if item == element:\n",
        "        found = True\n",
        "        break\n",
        "\n",
        "if found:\n",
        "    print(f\"{element} exists in the list.\")\n",
        "else:\n",
        "    print(f\"{element} does not exist in the list.\")\n"
      ],
      "metadata": {
        "id": "dRk4pXzhVmsu",
        "outputId": "009766a2-0468-499f-f414-4cffd90abc3e",
        "colab": {
          "base_uri": "https://localhost:8080/"
        }
      },
      "id": "dRk4pXzhVmsu",
      "execution_count": null,
      "outputs": [
        {
          "output_type": "stream",
          "name": "stdout",
          "text": [
            "Enter the element to search: 30 \n",
            "30 exists in the list.\n"
          ]
        }
      ]
    },
    {
      "cell_type": "code",
      "source": [
        "my_list = [10, 20, 30, 40, 50]\n",
        "element = int(input(\"Enter the element to search: \"))\n",
        "\n",
        "if my_list.count(element) > 0:\n",
        "    print(f\"{element} exists in the list.\")\n",
        "else:\n",
        "    print(f\"{element} does not exist in the list.\")\n"
      ],
      "metadata": {
        "id": "1x2cw9ewVqmd",
        "outputId": "47452561-52c6-4dc7-a67e-5efd798247e3",
        "colab": {
          "base_uri": "https://localhost:8080/"
        }
      },
      "id": "1x2cw9ewVqmd",
      "execution_count": null,
      "outputs": [
        {
          "output_type": "stream",
          "name": "stdout",
          "text": [
            "Enter the element to search: 30 \n",
            "30 exists in the list.\n"
          ]
        }
      ]
    },
    {
      "cell_type": "markdown",
      "id": "d9557da7",
      "metadata": {
        "id": "d9557da7"
      },
      "source": [
        "**27- clear python list using different ways"
      ]
    },
    {
      "cell_type": "code",
      "execution_count": null,
      "id": "b69858a3",
      "metadata": {
        "id": "b69858a3",
        "outputId": "f3f1c0ae-ee05-416b-947a-d32b7f4c1adb",
        "colab": {
          "base_uri": "https://localhost:8080/"
        }
      },
      "outputs": [
        {
          "output_type": "stream",
          "name": "stdout",
          "text": [
            "After clear(): []\n"
          ]
        }
      ],
      "source": [
        "my_list = [1, 2, 3]\n",
        "my_list.clear()\n",
        "print(\"After clear():\", my_list)\n"
      ]
    },
    {
      "cell_type": "code",
      "source": [
        "my_list = [1, 2, 3]\n",
        "my_list[:] = []\n",
        "print(\"After slice assignment:\", my_list)\n"
      ],
      "metadata": {
        "id": "bVdn5JMnV1a4",
        "outputId": "470b5f9c-8c18-4e9b-ad49-b4e0a1d5b605",
        "colab": {
          "base_uri": "https://localhost:8080/"
        }
      },
      "id": "bVdn5JMnV1a4",
      "execution_count": null,
      "outputs": [
        {
          "output_type": "stream",
          "name": "stdout",
          "text": [
            "After slice assignment: []\n"
          ]
        }
      ]
    },
    {
      "cell_type": "markdown",
      "id": "52160e88",
      "metadata": {
        "id": "52160e88"
      },
      "source": [
        "**28-remove duplicated elements from a list"
      ]
    },
    {
      "cell_type": "code",
      "execution_count": null,
      "id": "5e362228",
      "metadata": {
        "id": "5e362228",
        "outputId": "3af6e15d-5cf7-4dfd-a2f9-7b7e1b59cb04",
        "colab": {
          "base_uri": "https://localhost:8080/"
        }
      },
      "outputs": [
        {
          "output_type": "stream",
          "name": "stdout",
          "text": [
            "Without duplicates (unordered): [1, 2, 3, 4, 5]\n"
          ]
        }
      ],
      "source": [
        "my_list = [1, 2, 2, 3, 4, 4, 5]\n",
        "unique_list = list(set(my_list))\n",
        "print(\"Without duplicates (unordered):\", unique_list)\n"
      ]
    },
    {
      "cell_type": "code",
      "source": [
        "my_list = [1, 2, 2, 3, 4, 4, 5]\n",
        "unique_list = []\n",
        "for item in my_list:\n",
        "    if item not in unique_list:\n",
        "        unique_list.append(item)\n",
        "print(\"Without duplicates (ordered):\", unique_list)\n"
      ],
      "metadata": {
        "id": "oJlh106xV-T-",
        "outputId": "7ced3c88-f417-45ee-fd8d-e1a69fe1fdfe",
        "colab": {
          "base_uri": "https://localhost:8080/"
        }
      },
      "id": "oJlh106xV-T-",
      "execution_count": null,
      "outputs": [
        {
          "output_type": "stream",
          "name": "stdout",
          "text": [
            "Without duplicates (ordered): [1, 2, 3, 4, 5]\n"
          ]
        }
      ]
    },
    {
      "cell_type": "code",
      "source": [
        "my_list = [1, 2, 2, 3, 4, 4, 5]\n",
        "unique_list = list(dict.fromkeys(my_list))\n",
        "print(\"Without duplicates (ordered):\", unique_list)\n"
      ],
      "metadata": {
        "id": "jHcN_z_9WAp1",
        "outputId": "2ac084f9-fd84-4b4f-896d-25597cbf0908",
        "colab": {
          "base_uri": "https://localhost:8080/"
        }
      },
      "id": "jHcN_z_9WAp1",
      "execution_count": null,
      "outputs": [
        {
          "output_type": "stream",
          "name": "stdout",
          "text": [
            "Without duplicates (ordered): [1, 2, 3, 4, 5]\n"
          ]
        }
      ]
    },
    {
      "cell_type": "code",
      "source": [
        "my_list = [3, 1, 2, 1, 3, 4]\n",
        "unique_sorted = sorted(set(my_list))\n",
        "print(\"Unique and sorted:\", unique_sorted)\n"
      ],
      "metadata": {
        "id": "Wvnl85iOWCZI",
        "outputId": "3c4dfbf9-1dc4-4da6-fa20-8ba21b3e20b8",
        "colab": {
          "base_uri": "https://localhost:8080/"
        }
      },
      "id": "Wvnl85iOWCZI",
      "execution_count": null,
      "outputs": [
        {
          "output_type": "stream",
          "name": "stdout",
          "text": [
            "Unique and sorted: [1, 2, 3, 4]\n"
          ]
        }
      ]
    },
    {
      "cell_type": "markdown",
      "id": "282337f7",
      "metadata": {
        "id": "282337f7"
      },
      "source": [
        "**29-Given list values and keys list, convert these values to key value pairs in form of list of dictionaries. (Input : test_list = [“Gfg”, 3, “is”, 8], key_list = [“name”, “id”]\n",
        "Output : [{‘name’: ‘Gfg’, ‘id’: 3}, {‘name’: ‘is’, ‘id’: 8}])"
      ]
    },
    {
      "cell_type": "code",
      "execution_count": null,
      "id": "4d4e2d28",
      "metadata": {
        "id": "4d4e2d28",
        "outputId": "9ce2f310-bde1-4f88-ab23-2caca595e6b2",
        "colab": {
          "base_uri": "https://localhost:8080/"
        }
      },
      "outputs": [
        {
          "output_type": "stream",
          "name": "stdout",
          "text": [
            "Output: [{'name': 'Gfg', 'id': 3}, {'name': 'is', 'id': 8}]\n"
          ]
        }
      ],
      "source": [
        "# Input lists\n",
        "test_list = [\"Gfg\", 3, \"is\", 8]\n",
        "key_list = [\"name\", \"id\"]\n",
        "\n",
        "# Convert to list of dictionaries\n",
        "result = [dict(zip(key_list, test_list[i:i+len(key_list)]))\n",
        "          for i in range(0, len(test_list), len(key_list))]\n",
        "\n",
        "# Output the result\n",
        "print(\"Output:\", result)\n"
      ]
    },
    {
      "cell_type": "markdown",
      "id": "c26b6e9f",
      "metadata": {
        "id": "c26b6e9f"
      },
      "source": [
        "**30-write a python program to count unique values inside a list using different ways"
      ]
    },
    {
      "cell_type": "code",
      "execution_count": null,
      "id": "72132667",
      "metadata": {
        "id": "72132667"
      },
      "outputs": [],
      "source": [
        "my_list = [1, 2, 2, 3, 4, 4, 4, 5]\n"
      ]
    },
    {
      "cell_type": "code",
      "source": [
        "unique_count = len(set(my_list))\n",
        "print(\"Unique values (using set):\", unique_count)\n"
      ],
      "metadata": {
        "id": "kvb9PqaaWO_d",
        "outputId": "61035bf9-4bed-4f42-cc9d-84dc7e73faa9",
        "colab": {
          "base_uri": "https://localhost:8080/"
        }
      },
      "id": "kvb9PqaaWO_d",
      "execution_count": null,
      "outputs": [
        {
          "output_type": "stream",
          "name": "stdout",
          "text": [
            "Unique values (using set): 5\n"
          ]
        }
      ]
    },
    {
      "cell_type": "code",
      "source": [
        "from collections import Counter\n",
        "\n",
        "counter = Counter(my_list)\n",
        "unique_count = len(counter)\n",
        "print(\"Unique values (using Counter):\", unique_count)\n"
      ],
      "metadata": {
        "id": "JBuJp6k1WVTh",
        "outputId": "7a7caee7-b29b-4d85-b20f-ccaa946c2c60",
        "colab": {
          "base_uri": "https://localhost:8080/"
        }
      },
      "id": "JBuJp6k1WVTh",
      "execution_count": null,
      "outputs": [
        {
          "output_type": "stream",
          "name": "stdout",
          "text": [
            "Unique values (using Counter): 5\n"
          ]
        }
      ]
    },
    {
      "cell_type": "code",
      "source": [
        "unique_items = []\n",
        "for item in my_list:\n",
        "    if item not in unique_items:\n",
        "        unique_items.append(item)\n",
        "\n",
        "unique_count = len(unique_items)\n",
        "print(\"Unique values (using loop):\", unique_count)\n"
      ],
      "metadata": {
        "id": "jFIspuEeWaVO",
        "outputId": "10ff520e-d2eb-484d-afc5-1a75635c55d9",
        "colab": {
          "base_uri": "https://localhost:8080/"
        }
      },
      "id": "jFIspuEeWaVO",
      "execution_count": null,
      "outputs": [
        {
          "output_type": "stream",
          "name": "stdout",
          "text": [
            "Unique values (using loop): 5\n"
          ]
        }
      ]
    },
    {
      "cell_type": "code",
      "source": [
        "unique_count = len(dict.fromkeys(my_list))\n",
        "print(\"Unique values (using dict.fromkeys):\", unique_count)\n"
      ],
      "metadata": {
        "id": "VgdP9i_3WfQ9",
        "outputId": "d0e3c5f3-bad9-44c2-8c64-b818c4ad3a46",
        "colab": {
          "base_uri": "https://localhost:8080/"
        }
      },
      "id": "VgdP9i_3WfQ9",
      "execution_count": null,
      "outputs": [
        {
          "output_type": "stream",
          "name": "stdout",
          "text": [
            "Unique values (using dict.fromkeys): 5\n"
          ]
        }
      ]
    },
    {
      "cell_type": "code",
      "source": [
        "unique_count = len({item for item in my_list})\n",
        "print(\"Unique values (using set comprehension):\", unique_count)\n"
      ],
      "metadata": {
        "id": "zbhOkImOWhsj",
        "outputId": "ccdb29bb-f512-4f8c-926d-85142952ea04",
        "colab": {
          "base_uri": "https://localhost:8080/"
        }
      },
      "id": "zbhOkImOWhsj",
      "execution_count": null,
      "outputs": [
        {
          "output_type": "stream",
          "name": "stdout",
          "text": [
            "Unique values (using set comprehension): 5\n"
          ]
        }
      ]
    },
    {
      "cell_type": "markdown",
      "id": "fed6677c",
      "metadata": {
        "id": "fed6677c"
      },
      "source": [
        "**31-write a python program Extract all elements with Frequency greater than K (Input : test_list = [4, 6, 4, 3, 3, 4, 3, 4, 3, 8], K = 3\n",
        "Output : [4, 3] )"
      ]
    },
    {
      "cell_type": "code",
      "execution_count": null,
      "id": "d81f3f9d",
      "metadata": {
        "id": "d81f3f9d",
        "outputId": "9c3e449a-ba05-4830-a02f-a1c697b05aa7",
        "colab": {
          "base_uri": "https://localhost:8080/"
        }
      },
      "outputs": [
        {
          "output_type": "stream",
          "name": "stdout",
          "text": [
            "Elements with frequency > K: [4, 3]\n"
          ]
        }
      ],
      "source": [
        "from collections import Counter\n",
        "\n",
        "# Input list and K\n",
        "test_list = [4, 6, 4, 3, 3, 4, 3, 4, 3, 8]\n",
        "K = 3\n",
        "\n",
        "# Count frequencies using Counter\n",
        "freq = Counter(test_list)\n",
        "\n",
        "# Extract elements with frequency > K\n",
        "result = [key for key, count in freq.items() if count > K]\n",
        "\n",
        "# Print result\n",
        "print(\"Elements with frequency > K:\", result)\n"
      ]
    },
    {
      "cell_type": "markdown",
      "id": "caca5224",
      "metadata": {
        "id": "caca5224"
      },
      "source": [
        "**32-write a python program to find the Strongest Neighbour (Input: 1 2 2 3 4 5\n",
        "Output: 2 2 3 4 5)"
      ]
    },
    {
      "cell_type": "code",
      "execution_count": null,
      "id": "39fbd9b2",
      "metadata": {
        "id": "39fbd9b2",
        "outputId": "5fe3b8b4-d51b-45af-ef51-6cc594db6bd1",
        "colab": {
          "base_uri": "https://localhost:8080/"
        }
      },
      "outputs": [
        {
          "output_type": "stream",
          "name": "stdout",
          "text": [
            "Strongest Neighbours: [2, 2, 3, 4, 5]\n"
          ]
        }
      ],
      "source": [
        "# Input list\n",
        "nums = [1, 2, 2, 3, 4, 5]\n",
        "\n",
        "# Output list to store strongest neighbours\n",
        "strongest = []\n",
        "\n",
        "# Loop to compare each element with its next neighbor\n",
        "for i in range(len(nums) - 1):\n",
        "    strongest.append(max(nums[i], nums[i + 1]))\n",
        "\n",
        "# Print result\n",
        "print(\"Strongest Neighbours:\", strongest)\n"
      ]
    },
    {
      "cell_type": "markdown",
      "id": "a9fa8baf",
      "metadata": {
        "id": "a9fa8baf"
      },
      "source": [
        "**33-write a Python Program to print all Possible Combinations from the three Digits (Input: [1, 2, 3]\n",
        "Output:\n",
        "1 2 3 ##\n",
        "1 3 2 ##\n",
        "2 1 3 ##\n",
        "2 3 1 ##\n",
        "3 1 2 ##\n",
        "3 2 1)"
      ]
    },
    {
      "cell_type": "code",
      "execution_count": null,
      "id": "8c520a76",
      "metadata": {
        "id": "8c520a76",
        "outputId": "e99ea045-de54-4b59-862c-ff01c533d4df",
        "colab": {
          "base_uri": "https://localhost:8080/"
        }
      },
      "outputs": [
        {
          "output_type": "stream",
          "name": "stdout",
          "text": [
            "All possible combinations:\n",
            "1 2 3 ##\n",
            "1 3 2 ##\n",
            "2 1 3 ##\n",
            "2 3 1 ##\n",
            "3 1 2 ##\n",
            "3 2 1 ##\n"
          ]
        }
      ],
      "source": [
        "import itertools\n",
        "\n",
        "# Input list\n",
        "digits = [1, 2, 3]\n",
        "\n",
        "# Get all permutations of 3 digits\n",
        "perms = list(itertools.permutations(digits))\n",
        "\n",
        "# Print results\n",
        "print(\"All possible combinations:\")\n",
        "for p in perms:\n",
        "    print(*p, \"##\")\n"
      ]
    },
    {
      "cell_type": "markdown",
      "id": "5288bb89",
      "metadata": {
        "id": "5288bb89"
      },
      "source": [
        "**34-write a Python program to find all the Combinations in the list with the given condition (Input: test_list = [1,2,3]\n",
        "Output:\n",
        " [1], [1, 2], [1, 2, 3], [1, 3]\n",
        " [2], [2, 3], [3])"
      ]
    },
    {
      "cell_type": "code",
      "execution_count": null,
      "id": "59b89646",
      "metadata": {
        "id": "59b89646",
        "outputId": "b23e2c28-106f-407a-ce52-1c10fc76ba16",
        "colab": {
          "base_uri": "https://localhost:8080/"
        }
      },
      "outputs": [
        {
          "output_type": "stream",
          "name": "stdout",
          "text": [
            "Combinations with order:\n",
            "[1]\n",
            "[1, 2]\n",
            "[1, 2, 3]\n",
            "[2]\n",
            "[2, 3]\n",
            "[3]\n"
          ]
        }
      ],
      "source": [
        "# Input list\n",
        "test_list = [1, 2, 3]\n",
        "\n",
        "# Result list\n",
        "result = []\n",
        "\n",
        "# Generate combinations using nested loops\n",
        "for i in range(len(test_list)):\n",
        "    for j in range(i + 1, len(test_list) + 1):\n",
        "        result.append(test_list[i:j])\n",
        "\n",
        "# Print the result\n",
        "print(\"Combinations with order:\")\n",
        "for combo in result:\n",
        "    print(combo)\n"
      ]
    },
    {
      "cell_type": "markdown",
      "id": "39973705",
      "metadata": {
        "id": "39973705"
      },
      "source": [
        "**35-write a Python program to get all unique combinations of two Lists (List_1 = [\"a\",\"b\"]\n",
        "List_2 = [1,2]\n",
        "Unique_combination = [[('a',1),('b',2)],[('a',2),('b',1)]] )"
      ]
    },
    {
      "cell_type": "code",
      "execution_count": null,
      "id": "8c4ba22b",
      "metadata": {
        "id": "8c4ba22b",
        "outputId": "75581f4f-d8ed-471e-c724-a2abc511a690",
        "colab": {
          "base_uri": "https://localhost:8080/"
        }
      },
      "outputs": [
        {
          "output_type": "stream",
          "name": "stdout",
          "text": [
            "Unique combinations:\n",
            "[('a', 1), ('b', 2)]\n",
            "[('a', 2), ('b', 1)]\n"
          ]
        }
      ],
      "source": [
        "from itertools import permutations\n",
        "\n",
        "# Input lists\n",
        "List_1 = [\"a\", \"b\"]\n",
        "List_2 = [1, 2]\n",
        "\n",
        "# Store the unique combinations\n",
        "unique_combinations = []\n",
        "\n",
        "# Generate all permutations of List_2\n",
        "for perm in permutations(List_2):\n",
        "    combo = list(zip(List_1, perm))\n",
        "    unique_combinations.append(combo)\n",
        "\n",
        "# Print the result\n",
        "print(\"Unique combinations:\")\n",
        "for uc in unique_combinations:\n",
        "    print(uc)\n"
      ]
    },
    {
      "cell_type": "markdown",
      "id": "25199af5",
      "metadata": {
        "id": "25199af5"
      },
      "source": [
        "**36-Remove all the occurrences of an element from a list in Python (Input : 1 1 2 3 4 5 1 2 1\n",
        "\n",
        "**Output : 2 3 4 5 2)"
      ]
    },
    {
      "cell_type": "code",
      "execution_count": null,
      "id": "6dc4c2ba",
      "metadata": {
        "id": "6dc4c2ba",
        "outputId": "512e6f8b-89be-45d2-c4a8-1be9fe425ba5",
        "colab": {
          "base_uri": "https://localhost:8080/"
        }
      },
      "outputs": [
        {
          "output_type": "stream",
          "name": "stdout",
          "text": [
            "List after removing all occurrences of 1 : [2, 3, 4, 5, 2]\n"
          ]
        }
      ],
      "source": [
        "# Input list\n",
        "input_list = [1, 1, 2, 3, 4, 5, 1, 2, 1]\n",
        "\n",
        "# Element to remove\n",
        "to_remove = 1\n",
        "\n",
        "# Using list comprehension to filter the element\n",
        "result = [x for x in input_list if x != to_remove]\n",
        "\n",
        "# Print the result\n",
        "print(\"List after removing all occurrences of\", to_remove, \":\", result)\n"
      ]
    },
    {
      "cell_type": "markdown",
      "id": "bf1a3c93",
      "metadata": {
        "id": "bf1a3c93"
      },
      "source": [
        "**37-write a python program to Replace index elements with elements in Other List (The original list 1 is : [‘Gfg’, ‘is’, ‘best’] The original list 2 is : [0, 1, 2, 1, 0, 0, 0, 2, 1, 1, 2, 0] The lists after index elements replacements is : [‘Gfg’, ‘is’, ‘best’, ‘is’, ‘Gfg’, ‘Gfg’, ‘Gfg’, ‘best’, ‘is’, ‘is’, ‘best’, ‘Gfg’])"
      ]
    },
    {
      "cell_type": "code",
      "execution_count": null,
      "id": "fdd66a71",
      "metadata": {
        "id": "fdd66a71",
        "outputId": "bc2440a7-2e74-4dc5-8dca-73e4f2f582f0",
        "colab": {
          "base_uri": "https://localhost:8080/"
        }
      },
      "outputs": [
        {
          "output_type": "stream",
          "name": "stdout",
          "text": [
            "The lists after index elements replacements is : ['Gfg', 'is', 'best', 'is', 'Gfg', 'Gfg', 'Gfg', 'best', 'is', 'is', 'best', 'Gfg']\n"
          ]
        }
      ],
      "source": [
        "# Original lists\n",
        "list1 = ['Gfg', 'is', 'best']\n",
        "list2 = [0, 1, 2, 1, 0, 0, 0, 2, 1, 1, 2, 0]\n",
        "\n",
        "# Replace each index in list2 with the corresponding element from list1\n",
        "result = [list1[i] for i in list2]\n",
        "\n",
        "# Print the result\n",
        "print(\"The lists after index elements replacements is :\", result)\n"
      ]
    },
    {
      "cell_type": "markdown",
      "id": "af0f56e8",
      "metadata": {
        "id": "af0f56e8"
      },
      "source": [
        "**38- write python program to Retain records with N occurrences of K(Input : test_list = [(4, 5, 5, 4), (5, 4, 3)], K = 5, N = 2\n",
        "Output : [(4, 5, 5, 4)]\n",
        "Input : test_list = [(4, 5, 5, 4), (5, 4, 3)], K = 5, N = 3\n",
        "Output : [] )"
      ]
    },
    {
      "cell_type": "code",
      "execution_count": null,
      "id": "67b06671",
      "metadata": {
        "id": "67b06671",
        "outputId": "64d41a65-3f7c-40bb-83f4-78c6b53f157c",
        "colab": {
          "base_uri": "https://localhost:8080/"
        }
      },
      "outputs": [
        {
          "output_type": "stream",
          "name": "stdout",
          "text": [
            "Filtered tuples: [(4, 5, 5, 4)]\n"
          ]
        }
      ],
      "source": [
        "# Sample input\n",
        "test_list = [(4, 5, 5, 4), (5, 4, 3)]\n",
        "K = 5\n",
        "N = 2\n",
        "\n",
        "# Filter tuples where K occurs exactly N times\n",
        "result = [t for t in test_list if t.count(K) == N]\n",
        "\n",
        "# Output the result\n",
        "print(\"Filtered tuples:\", result)\n"
      ]
    },
    {
      "cell_type": "markdown",
      "id": "de76f183",
      "metadata": {
        "id": "de76f183"
      },
      "source": [
        "**39-write a Python Program to Sort the list according to the column using lambda\n",
        "array = [[1, 3, 3], [2, 1, 2], [3, 2, 1]]\n",
        "Output :\n",
        "Sorted array specific to column 0, [[1, 3, 3], [2, 1, 2], [3, 2, 1]]\n",
        "Sorted array specific to column 1, [[2, 1, 2], [3, 2, 1], [1, 3, 3]]\n",
        "Sorted array specific to column 2, [[3, 2, 1], [2, 1, 2], [1, 3, 3]]"
      ]
    },
    {
      "cell_type": "code",
      "execution_count": null,
      "id": "dc883308",
      "metadata": {
        "id": "dc883308",
        "outputId": "a550a4b1-3876-48de-ef31-126beb1f4274",
        "colab": {
          "base_uri": "https://localhost:8080/"
        }
      },
      "outputs": [
        {
          "output_type": "stream",
          "name": "stdout",
          "text": [
            "Sorted by column 0: [[1, 3, 3], [2, 1, 2], [3, 2, 1]]\n",
            "Sorted by column 1: [[2, 1, 2], [3, 2, 1], [1, 3, 3]]\n",
            "Sorted by column 2: [[3, 2, 1], [2, 1, 2], [1, 3, 3]]\n"
          ]
        }
      ],
      "source": [
        "# Input array\n",
        "array = [[1, 3, 3], [2, 1, 2], [3, 2, 1]]\n",
        "\n",
        "# Sort by column 0\n",
        "sorted_col_0 = sorted(array, key=lambda x: x[0])\n",
        "print(\"Sorted by column 0:\", sorted_col_0)\n",
        "\n",
        "# Sort by column 1\n",
        "sorted_col_1 = sorted(array, key=lambda x: x[1])\n",
        "print(\"Sorted by column 1:\", sorted_col_1)\n",
        "\n",
        "# Sort by column 2\n",
        "sorted_col_2 = sorted(array, key=lambda x: x[2])\n",
        "print(\"Sorted by column 2:\", sorted_col_2)\n"
      ]
    },
    {
      "cell_type": "code",
      "execution_count": null,
      "id": "d2e7b31f",
      "metadata": {
        "id": "d2e7b31f"
      },
      "outputs": [],
      "source": [
        "**40- write a program to Sort Python Dictionaries by Key or Value\n",
        "Input:\n",
        "{'ravi': 10, 'rajnish': 9, 'sanjeev': 15, 'yash': 2, 'suraj': 32}\n",
        "\n",
        "Output:\n",
        "{'rajnish': 9, 'ravi': 10, 'sanjeev': 15, 'suraj': 32, 'yash': 2}"
      ]
    },
    {
      "cell_type": "code",
      "execution_count": null,
      "id": "a96db4a0",
      "metadata": {
        "id": "a96db4a0",
        "outputId": "e8defbc7-4314-4c3d-a6fc-304792763bce",
        "colab": {
          "base_uri": "https://localhost:8080/"
        }
      },
      "outputs": [
        {
          "output_type": "stream",
          "name": "stdout",
          "text": [
            "Sorted by Key:\n",
            "{'rajnish': 9, 'ravi': 10, 'sanjeev': 15, 'suraj': 32, 'yash': 2}\n",
            "\n",
            "Sorted by Value:\n",
            "{'yash': 2, 'rajnish': 9, 'ravi': 10, 'sanjeev': 15, 'suraj': 32}\n"
          ]
        }
      ],
      "source": [
        "# Input dictionary\n",
        "my_dict = {'ravi': 10, 'rajnish': 9, 'sanjeev': 15, 'yash': 2, 'suraj': 32}\n",
        "\n",
        "# Sort by key\n",
        "sorted_by_key = dict(sorted(my_dict.items(), key=lambda x: x[0]))\n",
        "print(\"Sorted by Key:\")\n",
        "print(sorted_by_key)\n",
        "\n",
        "# Sort by value\n",
        "sorted_by_value = dict(sorted(my_dict.items(), key=lambda x: x[1]))\n",
        "print(\"\\nSorted by Value:\")\n",
        "print(sorted_by_value)\n"
      ]
    },
    {
      "cell_type": "markdown",
      "id": "ec63c23a",
      "metadata": {
        "id": "ec63c23a"
      },
      "source": [
        "**41-write python program to Remove keys with Values Greater than K ( Including mixed values )\n",
        "nput : test_dict = {‘Gfg’ : 3, ‘is’ : 7, ‘best’ : 10, ‘for’ : 6, ‘geeks’ : ‘CS’},\n",
        "K = 7\n",
        "Output : {‘Gfg’ : 3, ‘for’ : 6, ‘geeks’ : ‘CS’}"
      ]
    },
    {
      "cell_type": "code",
      "execution_count": null,
      "id": "e39c3a40",
      "metadata": {
        "id": "e39c3a40",
        "outputId": "390eca20-2d05-46b1-a6ab-769c51f80330",
        "colab": {
          "base_uri": "https://localhost:8080/"
        }
      },
      "outputs": [
        {
          "output_type": "stream",
          "name": "stdout",
          "text": [
            "Filtered dictionary: {'Gfg': 3, 'is': 7, 'for': 6, 'geeks': 'CS'}\n"
          ]
        }
      ],
      "source": [
        "# Input dictionary and threshold K\n",
        "test_dict = {'Gfg': 3, 'is': 7, 'best': 10, 'for': 6, 'geeks': 'CS'}\n",
        "K = 7\n",
        "\n",
        "# Filter dictionary: keep only keys where value is not > K or not a number\n",
        "result = {key: val for key, val in test_dict.items()\n",
        "          if not isinstance(val, (int, float)) or val <= K}\n",
        "\n",
        "# Output result\n",
        "print(\"Filtered dictionary:\", result)\n"
      ]
    },
    {
      "cell_type": "markdown",
      "id": "f143f0fe",
      "metadata": {
        "id": "f143f0fe"
      },
      "source": [
        "**42-Write a Python program to concatenate the following dictionaries to create a new one\n",
        "\n",
        "Sample Dictionary :\n",
        "dic1={1:10, 2:20}\n",
        "dic2={3:30, 4:40}\n",
        "dic3={5:50,6:60}\n",
        "Expected Result : {1: 10, 2: 20, 3: 30, 4: 40, 5: 50, 6: 60}"
      ]
    },
    {
      "cell_type": "code",
      "execution_count": null,
      "id": "74ffdfea",
      "metadata": {
        "id": "74ffdfea",
        "outputId": "ea3f1230-5b9c-4d9b-a901-508049d34b2e",
        "colab": {
          "base_uri": "https://localhost:8080/"
        }
      },
      "outputs": [
        {
          "output_type": "stream",
          "name": "stdout",
          "text": [
            "Concatenated Dictionary (using unpacking): {1: 10, 2: 20, 3: 30, 4: 40, 5: 50, 6: 60}\n"
          ]
        }
      ],
      "source": [
        "# Sample dictionaries\n",
        "dic1 = {1: 10, 2: 20}\n",
        "dic2 = {3: 30, 4: 40}\n",
        "dic3 = {5: 50, 6: 60}\n",
        "\n",
        "# Method 1: Using dictionary unpacking (Python 3.5+)\n",
        "result = {**dic1, **dic2, **dic3}\n",
        "print(\"Concatenated Dictionary (using unpacking):\", result)\n"
      ]
    },
    {
      "cell_type": "markdown",
      "id": "fb04c93c",
      "metadata": {
        "id": "fb04c93c"
      },
      "source": [
        "**43-Write a Python program to iterate over dictionaries using for loops"
      ]
    },
    {
      "cell_type": "code",
      "execution_count": null,
      "id": "6aebc470",
      "metadata": {
        "id": "6aebc470"
      },
      "outputs": [],
      "source": [
        "my_dict = {\n",
        "    'name': 'Alice',\n",
        "    'age': 25,\n",
        "    'city': 'New York'\n",
        "}\n"
      ]
    },
    {
      "cell_type": "code",
      "source": [
        "for key in my_dict:\n",
        "    print(\"Key:\", key)\n"
      ],
      "metadata": {
        "id": "ATKU9LMZYEB-",
        "outputId": "0750e0fe-26fb-4349-cd1a-e13ce1c399c4",
        "colab": {
          "base_uri": "https://localhost:8080/"
        }
      },
      "id": "ATKU9LMZYEB-",
      "execution_count": null,
      "outputs": [
        {
          "output_type": "stream",
          "name": "stdout",
          "text": [
            "Key: name\n",
            "Key: age\n",
            "Key: city\n"
          ]
        }
      ]
    },
    {
      "cell_type": "code",
      "source": [
        "for value in my_dict.values():\n",
        "    print(\"Value:\", value)\n"
      ],
      "metadata": {
        "id": "E-7Etzz0YFnb",
        "outputId": "9dfb23a0-6d30-4f21-eb55-3e686a257e13",
        "colab": {
          "base_uri": "https://localhost:8080/"
        }
      },
      "id": "E-7Etzz0YFnb",
      "execution_count": null,
      "outputs": [
        {
          "output_type": "stream",
          "name": "stdout",
          "text": [
            "Value: Alice\n",
            "Value: 25\n",
            "Value: New York\n"
          ]
        }
      ]
    },
    {
      "cell_type": "code",
      "source": [
        "for key, value in my_dict.items():\n",
        "    print(\"Key:\", key, \"→ Value:\", value)\n"
      ],
      "metadata": {
        "id": "k1AfzH5yYHdw",
        "outputId": "8eecb6fd-9b02-4475-f62e-3f08a2b79766",
        "colab": {
          "base_uri": "https://localhost:8080/"
        }
      },
      "id": "k1AfzH5yYHdw",
      "execution_count": null,
      "outputs": [
        {
          "output_type": "stream",
          "name": "stdout",
          "text": [
            "Key: name → Value: Alice\n",
            "Key: age → Value: 25\n",
            "Key: city → Value: New York\n"
          ]
        }
      ]
    },
    {
      "cell_type": "code",
      "source": [
        "for index, (key, value) in enumerate(my_dict.items()):\n",
        "    print(f\"{index}. {key} → {value}\")\n"
      ],
      "metadata": {
        "id": "IhrEXdVHYJ5W",
        "outputId": "1fa7aa52-b224-4361-feca-d5addbcc93e9",
        "colab": {
          "base_uri": "https://localhost:8080/"
        }
      },
      "id": "IhrEXdVHYJ5W",
      "execution_count": null,
      "outputs": [
        {
          "output_type": "stream",
          "name": "stdout",
          "text": [
            "0. name → Alice\n",
            "1. age → 25\n",
            "2. city → New York\n"
          ]
        }
      ]
    },
    {
      "cell_type": "markdown",
      "id": "5f491a9d",
      "metadata": {
        "id": "5f491a9d"
      },
      "source": [
        "**44- Write a Python script to merge two Python dictionaries"
      ]
    },
    {
      "cell_type": "code",
      "execution_count": null,
      "id": "b8a14028",
      "metadata": {
        "id": "b8a14028"
      },
      "outputs": [],
      "source": [
        "dict1 = {'a': 100, 'b': 200}\n",
        "dict2 = {'c': 300, 'd': 400}\n"
      ]
    },
    {
      "cell_type": "code",
      "source": [
        "merged_dict = {**dict1, **dict2}\n",
        "print(\"Merged Dictionary (unpacking):\", merged_dict)\n"
      ],
      "metadata": {
        "id": "JaaUUjOvYRjI",
        "outputId": "20673987-8f06-446c-f69d-db6f95847897",
        "colab": {
          "base_uri": "https://localhost:8080/"
        }
      },
      "id": "JaaUUjOvYRjI",
      "execution_count": null,
      "outputs": [
        {
          "output_type": "stream",
          "name": "stdout",
          "text": [
            "Merged Dictionary (unpacking): {'a': 100, 'b': 200, 'c': 300, 'd': 400}\n"
          ]
        }
      ]
    },
    {
      "cell_type": "code",
      "source": [
        "merged_dict = dict1.copy()  # To avoid changing dict1\n",
        "merged_dict.update(dict2)\n",
        "print(\"Merged Dictionary (update):\", merged_dict)\n"
      ],
      "metadata": {
        "id": "2yHqnxDIYUZr",
        "outputId": "fd207aa2-f4af-4925-f8fc-5cc2b288903f",
        "colab": {
          "base_uri": "https://localhost:8080/"
        }
      },
      "id": "2yHqnxDIYUZr",
      "execution_count": null,
      "outputs": [
        {
          "output_type": "stream",
          "name": "stdout",
          "text": [
            "Merged Dictionary (update): {'a': 100, 'b': 200, 'c': 300, 'd': 400}\n"
          ]
        }
      ]
    },
    {
      "cell_type": "code",
      "source": [
        "merged_dict = dict1 | dict2\n",
        "print(\"Merged Dictionary (| operator):\", merged_dict)\n"
      ],
      "metadata": {
        "id": "_McnQu4eYWM6",
        "outputId": "92b827b5-e585-4783-89d1-b02d101e9d95",
        "colab": {
          "base_uri": "https://localhost:8080/"
        }
      },
      "id": "_McnQu4eYWM6",
      "execution_count": null,
      "outputs": [
        {
          "output_type": "stream",
          "name": "stdout",
          "text": [
            "Merged Dictionary (| operator): {'a': 100, 'b': 200, 'c': 300, 'd': 400}\n"
          ]
        }
      ]
    },
    {
      "cell_type": "markdown",
      "id": "216fc72d",
      "metadata": {
        "id": "216fc72d"
      },
      "source": [
        "**45-Write a Python program to get the maximum and minimum values of a dictionary values"
      ]
    },
    {
      "cell_type": "code",
      "execution_count": null,
      "id": "d6883f5f",
      "metadata": {
        "id": "d6883f5f",
        "outputId": "cd23398d-bcfc-4333-f22a-a5405da1d2e8",
        "colab": {
          "base_uri": "https://localhost:8080/"
        }
      },
      "outputs": [
        {
          "output_type": "stream",
          "name": "stdout",
          "text": [
            "Maximum value in dictionary: 42\n",
            "Minimum value in dictionary: 5\n"
          ]
        }
      ],
      "source": [
        "# Sample dictionary\n",
        "my_dict = {'a': 10, 'b': 25, 'c': 5, 'd': 42}\n",
        "\n",
        "# Get maximum and minimum values\n",
        "max_value = max(my_dict.values())\n",
        "min_value = min(my_dict.values())\n",
        "\n",
        "# Print results\n",
        "print(\"Maximum value in dictionary:\", max_value)\n",
        "print(\"Minimum value in dictionary:\", min_value)\n"
      ]
    },
    {
      "cell_type": "markdown",
      "id": "b6a53011",
      "metadata": {
        "id": "b6a53011"
      },
      "source": [
        "**46- Write a Python program to drop empty items from a given dictionary.\n",
        "Original Dictionary:\n",
        "{'c1': 'Red', 'c2': 'Green', 'c3': None}\n",
        "New Dictionary after dropping empty items:\n",
        "{'c1': 'Red', 'c2': 'Green'}"
      ]
    },
    {
      "cell_type": "code",
      "execution_count": null,
      "id": "b5c6fecf",
      "metadata": {
        "id": "b5c6fecf",
        "outputId": "52751d70-ed8c-4798-f0d9-10af0f25d610",
        "colab": {
          "base_uri": "https://localhost:8080/"
        }
      },
      "outputs": [
        {
          "output_type": "stream",
          "name": "stdout",
          "text": [
            "Original Dictionary: {'c1': 'Red', 'c2': 'Green', 'c3': None}\n",
            "New Dictionary after dropping empty items: {'c1': 'Red', 'c2': 'Green'}\n"
          ]
        }
      ],
      "source": [
        "# Original dictionary\n",
        "original_dict = {'c1': 'Red', 'c2': 'Green', 'c3': None}\n",
        "\n",
        "# Remove keys with None values\n",
        "filtered_dict = {k: v for k, v in original_dict.items() if v is not None}\n",
        "\n",
        "# Print result\n",
        "print(\"Original Dictionary:\", original_dict)\n",
        "print(\"New Dictionary after dropping empty items:\", filtered_dict)\n"
      ]
    },
    {
      "cell_type": "markdown",
      "id": "46d718c7",
      "metadata": {
        "id": "46d718c7"
      },
      "source": [
        "**47-Write a Python program to create a tuple of numbers and print one item"
      ]
    },
    {
      "cell_type": "code",
      "execution_count": null,
      "id": "13216ff5",
      "metadata": {
        "id": "13216ff5",
        "outputId": "3f2cb6dd-fa64-4350-b042-79ea41ce5d9a",
        "colab": {
          "base_uri": "https://localhost:8080/"
        }
      },
      "outputs": [
        {
          "output_type": "stream",
          "name": "stdout",
          "text": [
            "The second item in the tuple is: 20\n"
          ]
        }
      ],
      "source": [
        "# Create a tuple of numbers\n",
        "numbers = (10, 20, 30, 40, 50)\n",
        "\n",
        "# Print one item (e.g., second item - index 1)\n",
        "print(\"The second item in the tuple is:\", numbers[1])\n"
      ]
    },
    {
      "cell_type": "markdown",
      "id": "2be5b56b",
      "metadata": {
        "id": "2be5b56b"
      },
      "source": [
        "**48-Write a Python program to unpack a tuple into several variables"
      ]
    },
    {
      "cell_type": "code",
      "execution_count": null,
      "id": "595f44be",
      "metadata": {
        "id": "595f44be",
        "outputId": "f816d4ec-1ad8-451a-f89f-d2a09ea9b03a",
        "colab": {
          "base_uri": "https://localhost:8080/"
        }
      },
      "outputs": [
        {
          "output_type": "stream",
          "name": "stdout",
          "text": [
            "Name: Alice\n",
            "Age: 25\n",
            "City: New York\n"
          ]
        }
      ],
      "source": [
        "# Create a tuple\n",
        "person = (\"Alice\", 25, \"New York\")\n",
        "\n",
        "# Unpack tuple into variables\n",
        "name, age, city = person\n",
        "\n",
        "# Print the unpacked values\n",
        "print(\"Name:\", name)\n",
        "print(\"Age:\", age)\n",
        "print(\"City:\", city)\n"
      ]
    },
    {
      "cell_type": "markdown",
      "id": "392388a7",
      "metadata": {
        "id": "392388a7"
      },
      "source": [
        "**49-Write a Python program to add an item to a tuple"
      ]
    },
    {
      "cell_type": "code",
      "execution_count": null,
      "id": "54cc092e",
      "metadata": {
        "id": "54cc092e",
        "outputId": "d9cba36d-ec1d-45c8-a1be-4bdd28e5cb47",
        "colab": {
          "base_uri": "https://localhost:8080/"
        }
      },
      "outputs": [
        {
          "output_type": "stream",
          "name": "stdout",
          "text": [
            "Original Tuple: (1, 2, 3)\n",
            "New Tuple after adding item: (1, 2, 3, 4)\n"
          ]
        }
      ],
      "source": [
        "# Original tuple\n",
        "original_tuple = (1, 2, 3)\n",
        "\n",
        "# Item to add\n",
        "new_item = 4\n",
        "\n",
        "# Create a new tuple by concatenation\n",
        "new_tuple = original_tuple + (new_item,)\n",
        "\n",
        "# Print the result\n",
        "print(\"Original Tuple:\", original_tuple)\n",
        "print(\"New Tuple after adding item:\", new_tuple)\n"
      ]
    },
    {
      "cell_type": "markdown",
      "id": "3e8fd124",
      "metadata": {
        "id": "3e8fd124"
      },
      "source": [
        "**50-Write a Python program to convert a tuple to a string"
      ]
    },
    {
      "cell_type": "code",
      "execution_count": null,
      "id": "92a71ddc",
      "metadata": {
        "id": "92a71ddc",
        "outputId": "158a2c61-5502-4863-953f-0e59f7e0267b",
        "colab": {
          "base_uri": "https://localhost:8080/"
        }
      },
      "outputs": [
        {
          "output_type": "stream",
          "name": "stdout",
          "text": [
            "Converted string: Hello\n"
          ]
        }
      ],
      "source": [
        "# Tuple of characters or words\n",
        "my_tuple = ('H', 'e', 'l', 'l', 'o')\n",
        "\n",
        "# Convert tuple to string using join()\n",
        "result = ''.join(my_tuple)\n",
        "\n",
        "# Print the result\n",
        "print(\"Converted string:\", result)\n"
      ]
    },
    {
      "cell_type": "markdown",
      "id": "f4f64ef4",
      "metadata": {
        "id": "f4f64ef4"
      },
      "source": [
        "**51-Write a Python program to convert a list to a tuple"
      ]
    },
    {
      "cell_type": "code",
      "execution_count": null,
      "id": "210d56d3",
      "metadata": {
        "id": "210d56d3",
        "outputId": "40dcb923-31a1-4adc-d836-645f4ee3bb73",
        "colab": {
          "base_uri": "https://localhost:8080/"
        }
      },
      "outputs": [
        {
          "output_type": "stream",
          "name": "stdout",
          "text": [
            "Original List: [1, 2, 3, 4, 5]\n",
            "Converted Tuple: (1, 2, 3, 4, 5)\n"
          ]
        }
      ],
      "source": [
        "# Sample list\n",
        "my_list = [1, 2, 3, 4, 5]\n",
        "\n",
        "# Convert list to tuple\n",
        "my_tuple = tuple(my_list)\n",
        "\n",
        "# Print result\n",
        "print(\"Original List:\", my_list)\n",
        "print(\"Converted Tuple:\", my_tuple)\n"
      ]
    },
    {
      "cell_type": "markdown",
      "id": "b1e00ef7",
      "metadata": {
        "id": "b1e00ef7"
      },
      "source": [
        "**52-Write a Python program to reverse a tuple"
      ]
    },
    {
      "cell_type": "code",
      "execution_count": null,
      "id": "f45bfdc7",
      "metadata": {
        "id": "f45bfdc7",
        "outputId": "eb9e99a7-34dc-4b16-eae4-2a28e2fd2c04",
        "colab": {
          "base_uri": "https://localhost:8080/"
        }
      },
      "outputs": [
        {
          "output_type": "stream",
          "name": "stdout",
          "text": [
            "Original Tuple: (10, 20, 30, 40, 50)\n",
            "Reversed Tuple: (50, 40, 30, 20, 10)\n"
          ]
        }
      ],
      "source": [
        "# Original tuple\n",
        "my_tuple = (10, 20, 30, 40, 50)\n",
        "\n",
        "# Reverse the tuple using slicing\n",
        "reversed_tuple = my_tuple[::-1]\n",
        "\n",
        "# Print the result\n",
        "print(\"Original Tuple:\", my_tuple)\n",
        "print(\"Reversed Tuple:\", reversed_tuple)\n"
      ]
    },
    {
      "cell_type": "markdown",
      "id": "3cd347d1",
      "metadata": {
        "id": "3cd347d1"
      },
      "source": [
        "**53-Write a Python program to replace the last value of tuples in a list.\n",
        "Sample list: [(10, 20, 40), (40, 50, 60), (70, 80, 90)]\n",
        "Expected Output: [(10, 20, 100), (40, 50, 100), (70, 80, 100)]"
      ]
    },
    {
      "cell_type": "code",
      "execution_count": null,
      "id": "3c4a2a4c",
      "metadata": {
        "id": "3c4a2a4c",
        "outputId": "aa60af39-ab8f-40b8-eb3a-16ecc2dad416",
        "colab": {
          "base_uri": "https://localhost:8080/"
        }
      },
      "outputs": [
        {
          "output_type": "stream",
          "name": "stdout",
          "text": [
            "Updated list: [(10, 20, 100), (40, 50, 100), (70, 80, 100)]\n"
          ]
        }
      ],
      "source": [
        "# Sample list of tuples\n",
        "sample_list = [(10, 20, 40), (40, 50, 60), (70, 80, 90)]\n",
        "\n",
        "# New value to replace the last element\n",
        "new_last_value = 100\n",
        "\n",
        "# Create a new list with modified tuples\n",
        "updated_list = [t[:-1] + (new_last_value,) for t in sample_list]\n",
        "\n",
        "# Print the result\n",
        "print(\"Updated list:\", updated_list)\n"
      ]
    },
    {
      "cell_type": "markdown",
      "id": "76bb7b39",
      "metadata": {
        "id": "76bb7b39"
      },
      "source": [
        "**54-Write a Python program to convert a given string list to a tuple\n",
        "Original string: python 3.0\n",
        "<class 'str'>\n",
        "Convert the said string to a tuple:\n",
        "('p', 'y', 't', 'h', 'o', 'n', '3', '.', '0')"
      ]
    },
    {
      "cell_type": "code",
      "execution_count": null,
      "id": "51951937",
      "metadata": {
        "id": "51951937",
        "outputId": "6c3b2a66-a713-40bb-f791-7f1b2d9997e0",
        "colab": {
          "base_uri": "https://localhost:8080/"
        }
      },
      "outputs": [
        {
          "output_type": "stream",
          "name": "stdout",
          "text": [
            "Original string: python 3.0\n",
            "Type before conversion: <class 'str'>\n",
            "Converted to tuple: ('p', 'y', 't', 'h', 'o', 'n', '3', '.', '0')\n",
            "Type after conversion: <class 'tuple'>\n"
          ]
        }
      ],
      "source": [
        "# Original string\n",
        "original_str = \"python 3.0\"\n",
        "\n",
        "# Remove spaces (optional, if needed)\n",
        "cleaned_str = original_str.replace(\" \", \"\")\n",
        "\n",
        "# Convert to tuple\n",
        "result_tuple = tuple(cleaned_str)\n",
        "\n",
        "# Print results\n",
        "print(\"Original string:\", original_str)\n",
        "print(\"Type before conversion:\", type(original_str))\n",
        "print(\"Converted to tuple:\", result_tuple)\n",
        "print(\"Type after conversion:\", type(result_tuple))\n"
      ]
    },
    {
      "cell_type": "markdown",
      "id": "5a1d5d97",
      "metadata": {
        "id": "5a1d5d97"
      },
      "source": [
        "**55-Write a Python program to calculate the average value of the numbers in a given tuple of tuples"
      ]
    },
    {
      "cell_type": "code",
      "execution_count": null,
      "id": "834e7992",
      "metadata": {
        "id": "834e7992",
        "outputId": "b6dc14e0-c881-4db4-82d3-454cb0f12122",
        "colab": {
          "base_uri": "https://localhost:8080/"
        }
      },
      "outputs": [
        {
          "output_type": "stream",
          "name": "stdout",
          "text": [
            "All numbers: [10, 20, 30, 40, 50, 60, 70, 80, 90]\n",
            "Average value: 50.0\n"
          ]
        }
      ],
      "source": [
        "# Sample tuple of tuples\n",
        "tuple_data = ((10, 20, 30), (40, 50, 60), (70, 80, 90))\n",
        "\n",
        "# Flatten the tuple and calculate average\n",
        "all_numbers = [num for tup in tuple_data for num in tup]\n",
        "average = sum(all_numbers) / len(all_numbers)\n",
        "\n",
        "# Print result\n",
        "print(\"All numbers:\", all_numbers)\n",
        "print(\"Average value:\", average)\n"
      ]
    },
    {
      "cell_type": "markdown",
      "id": "51edab9c",
      "metadata": {
        "id": "51edab9c"
      },
      "source": [
        "**56-Write a Python program to add member(s) to a set."
      ]
    },
    {
      "cell_type": "code",
      "execution_count": null,
      "id": "2b65df79",
      "metadata": {
        "id": "2b65df79",
        "outputId": "5713fe59-f99c-4843-e339-1cd6b8183580",
        "colab": {
          "base_uri": "https://localhost:8080/"
        }
      },
      "outputs": [
        {
          "output_type": "stream",
          "name": "stdout",
          "text": [
            "Original set: {1, 2, 3}\n",
            "After adding one element (4): {1, 2, 3, 4}\n",
            "After adding multiple elements [5, 6, 7]: {1, 2, 3, 4, 5, 6, 7}\n"
          ]
        }
      ],
      "source": [
        "# Initial set\n",
        "my_set = {1, 2, 3}\n",
        "print(\"Original set:\", my_set)\n",
        "\n",
        "# Add a single element\n",
        "my_set.add(4)\n",
        "print(\"After adding one element (4):\", my_set)\n",
        "\n",
        "# Add multiple elements\n",
        "my_set.update([5, 6, 7])\n",
        "print(\"After adding multiple elements [5, 6, 7]:\", my_set)\n"
      ]
    },
    {
      "cell_type": "markdown",
      "id": "965590cc",
      "metadata": {
        "id": "965590cc"
      },
      "source": [
        "**57-Write a Python program to remove an item from a set if it is present in the set."
      ]
    },
    {
      "cell_type": "code",
      "execution_count": null,
      "id": "866bab28",
      "metadata": {
        "id": "866bab28",
        "outputId": "ca6f50d8-ff46-4147-e1da-6f88dfa5050a",
        "colab": {
          "base_uri": "https://localhost:8080/"
        }
      },
      "outputs": [
        {
          "output_type": "stream",
          "name": "stdout",
          "text": [
            "Original set: {1, 2, 3, 4, 5}\n",
            "Set after removing 3 : {1, 2, 4, 5}\n"
          ]
        }
      ],
      "source": [
        "# Initial set\n",
        "my_set = {1, 2, 3, 4, 5}\n",
        "print(\"Original set:\", my_set)\n",
        "\n",
        "# Item to remove\n",
        "item_to_remove = 3\n",
        "\n",
        "# Safely remove the item using discard (won't raise error if not present)\n",
        "my_set.discard(item_to_remove)\n",
        "\n",
        "# Print updated set\n",
        "print(\"Set after removing\", item_to_remove, \":\", my_set)\n"
      ]
    },
    {
      "cell_type": "markdown",
      "id": "2b7cfed1",
      "metadata": {
        "id": "2b7cfed1"
      },
      "source": [
        "**58-Write a Python program to create an intersection,union,difference and symmetric difference of sets"
      ]
    },
    {
      "cell_type": "code",
      "execution_count": null,
      "id": "7f94b7fe",
      "metadata": {
        "id": "7f94b7fe",
        "outputId": "3615764e-50f9-4bfb-d18d-06ef4bad3022",
        "colab": {
          "base_uri": "https://localhost:8080/"
        }
      },
      "outputs": [
        {
          "output_type": "stream",
          "name": "stdout",
          "text": [
            "Intersection: {4, 5}\n",
            "Union: {1, 2, 3, 4, 5, 6, 7, 8}\n",
            "Difference (set1 - set2): {1, 2, 3}\n",
            "Symmetric Difference: {1, 2, 3, 6, 7, 8}\n"
          ]
        }
      ],
      "source": [
        "# Define two sets\n",
        "set1 = {1, 2, 3, 4, 5}\n",
        "set2 = {4, 5, 6, 7, 8}\n",
        "\n",
        "# Intersection: common elements\n",
        "intersection_result = set1 & set2\n",
        "print(\"Intersection:\", intersection_result)\n",
        "\n",
        "# Union: all unique elements from both sets\n",
        "union_result = set1 | set2\n",
        "print(\"Union:\", union_result)\n",
        "\n",
        "# Difference: elements in set1 but not in set2\n",
        "difference_result = set1 - set2\n",
        "print(\"Difference (set1 - set2):\", difference_result)\n",
        "\n",
        "# Symmetric Difference: elements in either set1 or set2 but not both\n",
        "symmetric_diff_result = set1 ^ set2\n",
        "print(\"Symmetric Difference:\", symmetric_diff_result)\n"
      ]
    },
    {
      "cell_type": "markdown",
      "id": "b94931e2",
      "metadata": {
        "id": "b94931e2"
      },
      "source": [
        "**59-Write a Python program to find the maximum and minimum values in a set"
      ]
    },
    {
      "cell_type": "code",
      "execution_count": null,
      "id": "203f9600",
      "metadata": {
        "id": "203f9600",
        "outputId": "b5557b5c-57e5-4e90-ab04-a0591acaefb7",
        "colab": {
          "base_uri": "https://localhost:8080/"
        }
      },
      "outputs": [
        {
          "output_type": "stream",
          "name": "stdout",
          "text": [
            "Original set: {42, 5, 70, 25, 10}\n",
            "Maximum value: 70\n",
            "Minimum value: 5\n"
          ]
        }
      ],
      "source": [
        "# Define a set of numbers\n",
        "my_set = {10, 25, 5, 70, 42}\n",
        "\n",
        "# Find maximum and minimum values\n",
        "max_value = max(my_set)\n",
        "min_value = min(my_set)\n",
        "\n",
        "# Print results\n",
        "print(\"Original set:\", my_set)\n",
        "print(\"Maximum value:\", max_value)\n",
        "print(\"Minimum value:\", min_value)\n"
      ]
    },
    {
      "cell_type": "markdown",
      "id": "255fd554",
      "metadata": {
        "id": "255fd554"
      },
      "source": [
        "**60- Write a Python program that finds all pairs of elements in a list whose sum is equal to a given value."
      ]
    },
    {
      "cell_type": "code",
      "execution_count": null,
      "id": "c2d94e1f",
      "metadata": {
        "id": "c2d94e1f",
        "outputId": "08e5643a-e116-437c-c06c-4d199318824f",
        "colab": {
          "base_uri": "https://localhost:8080/"
        }
      },
      "outputs": [
        {
          "output_type": "stream",
          "name": "stdout",
          "text": [
            "Pairs with sum = 8 : [(1, 7), (2, 6), (3, 5)]\n"
          ]
        }
      ],
      "source": [
        "# Sample list and target sum\n",
        "numbers = [1, 2, 3, 4, 5, 6, 7]\n",
        "target_sum = 8\n",
        "\n",
        "# Store result pairs\n",
        "pairs = []\n",
        "\n",
        "# Find all pairs (brute-force approach)\n",
        "for i in range(len(numbers)):\n",
        "    for j in range(i + 1, len(numbers)):\n",
        "        if numbers[i] + numbers[j] == target_sum:\n",
        "            pairs.append((numbers[i], numbers[j]))\n",
        "\n",
        "# Print result\n",
        "print(\"Pairs with sum =\", target_sum, \":\", pairs)\n"
      ]
    }
  ],
  "metadata": {
    "kernelspec": {
      "display_name": "Python 3 (ipykernel)",
      "language": "python",
      "name": "python3"
    },
    "language_info": {
      "codemirror_mode": {
        "name": "ipython",
        "version": 3
      },
      "file_extension": ".py",
      "mimetype": "text/x-python",
      "name": "python",
      "nbconvert_exporter": "python",
      "pygments_lexer": "ipython3",
      "version": "3.9.7"
    },
    "colab": {
      "provenance": []
    }
  },
  "nbformat": 4,
  "nbformat_minor": 5
}