{
  "nbformat": 4,
  "nbformat_minor": 0,
  "metadata": {
    "colab": {
      "provenance": []
    },
    "kernelspec": {
      "name": "python3",
      "display_name": "Python 3"
    },
    "language_info": {
      "name": "python"
    }
  },
  "cells": [
    {
      "cell_type": "markdown",
      "source": [
        "Write a Numpy program to get the Numpy version and show the Numpy build configuration.\n"
      ],
      "metadata": {
        "id": "7DvG-t8AoBrX"
      }
    },
    {
      "cell_type": "code",
      "execution_count": null,
      "metadata": {
        "colab": {
          "base_uri": "https://localhost:8080/"
        },
        "id": "mG742Nl2oBL2",
        "outputId": "eec1caa4-1618-4853-b283-ae2d67839b29"
      },
      "outputs": [
        {
          "output_type": "stream",
          "name": "stdout",
          "text": [
            "NumPy version:\n",
            "2.0.2\n",
            "\n",
            "\n",
            "NumPy build configuration:\n",
            "Build Dependencies:\n",
            "  blas:\n",
            "    detection method: pkgconfig\n",
            "    found: true\n",
            "    include directory: /opt/_internal/cpython-3.11.8/lib/python3.11/site-packages/scipy_openblas64/include\n",
            "    lib directory: /opt/_internal/cpython-3.11.8/lib/python3.11/site-packages/scipy_openblas64/lib\n",
            "    name: scipy-openblas\n",
            "    openblas configuration: OpenBLAS 0.3.27  USE64BITINT DYNAMIC_ARCH NO_AFFINITY\n",
            "      Zen MAX_THREADS=64\n",
            "    pc file directory: /project/.openblas\n",
            "    version: 0.3.27\n",
            "  lapack:\n",
            "    detection method: pkgconfig\n",
            "    found: true\n",
            "    include directory: /opt/_internal/cpython-3.11.8/lib/python3.11/site-packages/scipy_openblas64/include\n",
            "    lib directory: /opt/_internal/cpython-3.11.8/lib/python3.11/site-packages/scipy_openblas64/lib\n",
            "    name: scipy-openblas\n",
            "    openblas configuration: OpenBLAS 0.3.27  USE64BITINT DYNAMIC_ARCH NO_AFFINITY\n",
            "      Zen MAX_THREADS=64\n",
            "    pc file directory: /project/.openblas\n",
            "    version: 0.3.27\n",
            "Compilers:\n",
            "  c:\n",
            "    commands: cc\n",
            "    linker: ld.bfd\n",
            "    name: gcc\n",
            "    version: 10.2.1\n",
            "  c++:\n",
            "    commands: c++\n",
            "    linker: ld.bfd\n",
            "    name: gcc\n",
            "    version: 10.2.1\n",
            "  cython:\n",
            "    commands: cython\n",
            "    linker: cython\n",
            "    name: cython\n",
            "    version: 3.0.11\n",
            "Machine Information:\n",
            "  build:\n",
            "    cpu: x86_64\n",
            "    endian: little\n",
            "    family: x86_64\n",
            "    system: linux\n",
            "  host:\n",
            "    cpu: x86_64\n",
            "    endian: little\n",
            "    family: x86_64\n",
            "    system: linux\n",
            "Python Information:\n",
            "  path: /tmp/build-env-zm_4loqi/bin/python\n",
            "  version: '3.11'\n",
            "SIMD Extensions:\n",
            "  baseline:\n",
            "  - SSE\n",
            "  - SSE2\n",
            "  - SSE3\n",
            "  found:\n",
            "  - SSSE3\n",
            "  - SSE41\n",
            "  - POPCNT\n",
            "  - SSE42\n",
            "  - AVX\n",
            "  - F16C\n",
            "  - FMA3\n",
            "  - AVX2\n",
            "  not found:\n",
            "  - AVX512F\n",
            "  - AVX512CD\n",
            "  - AVX512_KNL\n",
            "  - AVX512_KNM\n",
            "  - AVX512_SKX\n",
            "  - AVX512_CLX\n",
            "  - AVX512_CNL\n",
            "  - AVX512_ICL\n",
            "\n",
            "None\n"
          ]
        }
      ],
      "source": [
        "import numpy as np\n",
        "\n",
        "# Get NumPy version\n",
        "print(\"NumPy version:\")\n",
        "print(np.__version__)\n",
        "print(\"\\n\")  # Add some spacing\n",
        "\n",
        "# Show NumPy build configuration\n",
        "print(\"NumPy build configuration:\")\n",
        "print(np.show_config())\n"
      ]
    },
    {
      "cell_type": "markdown",
      "source": [
        "Write a NumPy program to get help with the add function."
      ],
      "metadata": {
        "id": "kpYGVxMporaH"
      }
    },
    {
      "cell_type": "code",
      "source": [
        "import numpy as np\n",
        "\n",
        "help(np.add)\n"
      ],
      "metadata": {
        "colab": {
          "base_uri": "https://localhost:8080/"
        },
        "id": "y3KA-xOiom8t",
        "outputId": "50a6f183-a70b-40d7-d6c4-ba02a0c0ae8b"
      },
      "execution_count": null,
      "outputs": [
        {
          "output_type": "stream",
          "name": "stdout",
          "text": [
            "Help on ufunc:\n",
            "\n",
            "add = <ufunc 'add'>\n",
            "    add(x1, x2, /, out=None, *, where=True, casting='same_kind', order='K', dtype=None, subok=True[, signature])\n",
            "    \n",
            "    Add arguments element-wise.\n",
            "    \n",
            "    Parameters\n",
            "    ----------\n",
            "    x1, x2 : array_like\n",
            "        The arrays to be added.\n",
            "        If ``x1.shape != x2.shape``, they must be broadcastable to a common\n",
            "        shape (which becomes the shape of the output).\n",
            "    out : ndarray, None, or tuple of ndarray and None, optional\n",
            "        A location into which the result is stored. If provided, it must have\n",
            "        a shape that the inputs broadcast to. If not provided or None,\n",
            "        a freshly-allocated array is returned. A tuple (possible only as a\n",
            "        keyword argument) must have length equal to the number of outputs.\n",
            "    where : array_like, optional\n",
            "        This condition is broadcast over the input. At locations where the\n",
            "        condition is True, the `out` array will be set to the ufunc result.\n",
            "        Elsewhere, the `out` array will retain its original value.\n",
            "        Note that if an uninitialized `out` array is created via the default\n",
            "        ``out=None``, locations within it where the condition is False will\n",
            "        remain uninitialized.\n",
            "    **kwargs\n",
            "        For other keyword-only arguments, see the\n",
            "        :ref:`ufunc docs <ufuncs.kwargs>`.\n",
            "    \n",
            "    Returns\n",
            "    -------\n",
            "    add : ndarray or scalar\n",
            "        The sum of `x1` and `x2`, element-wise.\n",
            "        This is a scalar if both `x1` and `x2` are scalars.\n",
            "    \n",
            "    Notes\n",
            "    -----\n",
            "    Equivalent to `x1` + `x2` in terms of array broadcasting.\n",
            "    \n",
            "    Examples\n",
            "    --------\n",
            "    >>> np.add(1.0, 4.0)\n",
            "    5.0\n",
            "    >>> x1 = np.arange(9.0).reshape((3, 3))\n",
            "    >>> x2 = np.arange(3.0)\n",
            "    >>> np.add(x1, x2)\n",
            "    array([[  0.,   2.,   4.],\n",
            "           [  3.,   5.,   7.],\n",
            "           [  6.,   8.,  10.]])\n",
            "    \n",
            "    The ``+`` operator can be used as a shorthand for ``np.add`` on ndarrays.\n",
            "    \n",
            "    >>> x1 = np.arange(9.0).reshape((3, 3))\n",
            "    >>> x2 = np.arange(3.0)\n",
            "    >>> x1 + x2\n",
            "    array([[ 0.,  2.,  4.],\n",
            "           [ 3.,  5.,  7.],\n",
            "           [ 6.,  8., 10.]])\n",
            "\n"
          ]
        }
      ]
    },
    {
      "cell_type": "markdown",
      "source": [
        "Write a NumPy program to test whether none of the elements of a given array are zero.\n"
      ],
      "metadata": {
        "id": "N6cVCFjypGM_"
      }
    },
    {
      "cell_type": "code",
      "source": [
        "import numpy as np\n",
        "\n",
        "# Example array\n",
        "arr = np.array([1, 2, 3, 4, 5])\n",
        "\n",
        "# Check if none of the elements are zero\n",
        "result = np.all(arr)\n",
        "\n",
        "print(\"Array:\", arr)\n",
        "print(\"None of the elements are zero:\", result)\n"
      ],
      "metadata": {
        "colab": {
          "base_uri": "https://localhost:8080/"
        },
        "id": "idmM_eBYpDoO",
        "outputId": "3abe55b1-9dd2-441b-b2f7-cc09e1c9f0f4"
      },
      "execution_count": null,
      "outputs": [
        {
          "output_type": "stream",
          "name": "stdout",
          "text": [
            "Array: [1 2 3 4 5]\n",
            "None of the elements are zero: True\n"
          ]
        }
      ]
    },
    {
      "cell_type": "markdown",
      "source": [
        "Write a NumPy program to test if any of the elements of a given array are non-zero."
      ],
      "metadata": {
        "id": "FKuJ6bz7pNnL"
      }
    },
    {
      "cell_type": "code",
      "source": [
        "import numpy as np\n",
        "\n",
        "# Example array\n",
        "arr = np.array([0, 0, 0, 5, 0])\n",
        "\n",
        "# Check if any element is non-zero\n",
        "result = np.any(arr)\n",
        "\n",
        "print(\"Array:\", arr)\n",
        "print(\"Any non-zero elements present:\", result)\n"
      ],
      "metadata": {
        "colab": {
          "base_uri": "https://localhost:8080/"
        },
        "id": "wHQ4Z-qLpQL-",
        "outputId": "ab151f2f-6dc7-4b4d-b65d-712eb0e892b6"
      },
      "execution_count": null,
      "outputs": [
        {
          "output_type": "stream",
          "name": "stdout",
          "text": [
            "Array: [0 0 0 5 0]\n",
            "Any non-zero elements present: True\n"
          ]
        }
      ]
    },
    {
      "cell_type": "markdown",
      "source": [
        "Write a NumPy program to test a given array element-wise for finiteness (not infinity or not a number)."
      ],
      "metadata": {
        "id": "F15j9HOppM4S"
      }
    },
    {
      "cell_type": "code",
      "source": [
        "import numpy as np\n",
        "\n",
        "# Example array with finite, inf, and nan values\n",
        "arr = np.array([1, 0, np.nan, np.inf, -np.inf, 5])\n",
        "\n",
        "# Check for finiteness\n",
        "result = np.isfinite(arr)\n",
        "\n",
        "print(\"Original array:\", arr)\n",
        "print(\"Is finite:\", result)\n"
      ],
      "metadata": {
        "colab": {
          "base_uri": "https://localhost:8080/"
        },
        "id": "B1SsdPZKpS91",
        "outputId": "f2a7de33-dffa-4a75-cdf0-d422418b3b16"
      },
      "execution_count": null,
      "outputs": [
        {
          "output_type": "stream",
          "name": "stdout",
          "text": [
            "Original array: [  1.   0.  nan  inf -inf   5.]\n",
            "Is finite: [ True  True False False False  True]\n"
          ]
        }
      ]
    },
    {
      "cell_type": "markdown",
      "source": [
        "Write a NumPy program to test elements-wise for positive or negative infinity."
      ],
      "metadata": {
        "id": "aKIdLuBTpoh9"
      }
    },
    {
      "cell_type": "code",
      "source": [
        "import numpy as np\n",
        "\n",
        "# Example array\n",
        "arr = np.array([1, -np.inf, np.inf, 0, 5, np.nan])\n",
        "\n",
        "# Test for positive infinity\n",
        "pos_inf_check = np.isposinf(arr)\n",
        "\n",
        "# Test for negative infinity\n",
        "neg_inf_check = np.isneginf(arr)\n",
        "\n",
        "# Test for any infinity\n",
        "any_inf_check = np.isinf(arr)\n",
        "\n",
        "# Print results\n",
        "print(\"Original array:\", arr)\n",
        "print(\"Positive infinity:\", pos_inf_check)\n",
        "print(\"Negative infinity:\", neg_inf_check)\n",
        "print(\"Any infinity:\", any_inf_check)\n"
      ],
      "metadata": {
        "colab": {
          "base_uri": "https://localhost:8080/"
        },
        "id": "L3Aw6QVCppRT",
        "outputId": "231811ed-7957-4ece-e584-fead4ae9c95b"
      },
      "execution_count": null,
      "outputs": [
        {
          "output_type": "stream",
          "name": "stdout",
          "text": [
            "Original array: [  1. -inf  inf   0.   5.  nan]\n",
            "Positive infinity: [False False  True False False False]\n",
            "Negative infinity: [False  True False False False False]\n",
            "Any infinity: [False  True  True False False False]\n"
          ]
        }
      ]
    },
    {
      "cell_type": "markdown",
      "source": [
        "Write a NumPy program to test element-wise for NaN of a given array."
      ],
      "metadata": {
        "id": "74iD_wwmp0_L"
      }
    },
    {
      "cell_type": "code",
      "source": [
        "import numpy as np\n",
        "\n",
        "# Example array with NaN values\n",
        "arr = np.array([1, np.nan, 3, np.nan, 5])\n",
        "\n",
        "# Test for NaN\n",
        "nan_check = np.isnan(arr)\n",
        "\n",
        "# Print results\n",
        "print(\"Original array:\", arr)\n",
        "print(\"Is NaN:\", nan_check)\n"
      ],
      "metadata": {
        "colab": {
          "base_uri": "https://localhost:8080/"
        },
        "id": "xAca3TtppzKm",
        "outputId": "754644e1-b9a7-4c92-cfcd-559ae8dabae3"
      },
      "execution_count": null,
      "outputs": [
        {
          "output_type": "stream",
          "name": "stdout",
          "text": [
            "Original array: [ 1. nan  3. nan  5.]\n",
            "Is NaN: [False  True False  True False]\n"
          ]
        }
      ]
    },
    {
      "cell_type": "markdown",
      "source": [
        "Write a NumPy program to test element-wise for complex numbers, real numbers in a given array. Also test if a given number is of a scalar type or not."
      ],
      "metadata": {
        "id": "MvB96aDE3bKV"
      }
    },
    {
      "cell_type": "code",
      "source": [
        "import numpy as np\n",
        "\n",
        "# Create an example array\n",
        "arr = np.array([1, 2+3j, 4.5, 0, 7+0j])\n",
        "\n",
        "# Test for complex numbers\n",
        "complex_check = np.iscomplex(arr)\n",
        "\n",
        "# Test for real numbers\n",
        "real_check = np.isreal(arr)\n",
        "\n",
        "# Test scalar values\n",
        "scalar1 = np.array(42)\n",
        "scalar2 = 3.14\n",
        "scalar3 = np.array([1, 2])\n",
        "\n",
        "is_scalar1 = np.isscalar(scalar1)  # False: it's a 0-D array\n",
        "is_scalar2 = np.isscalar(scalar2)  # True: a scalar float\n",
        "is_scalar3 = np.isscalar(scalar3)  # False: array\n",
        "\n",
        "# Print results\n",
        "print(\"Original array:\", arr)\n",
        "print(\"Is complex:\", complex_check)\n",
        "print(\"Is real:\", real_check)\n",
        "\n",
        "print(\"\\nScalar checks:\")\n",
        "print(\"scalar1 (np.array(42)) is scalar:\", is_scalar1)\n",
        "print(\"scalar2 (3.14) is scalar:\", is_scalar2)\n",
        "print(\"scalar3 (np.array([1, 2])) is scalar:\", is_scalar3)\n"
      ],
      "metadata": {
        "colab": {
          "base_uri": "https://localhost:8080/"
        },
        "id": "GCxkU3xQ3exQ",
        "outputId": "ebe1dd0d-2f94-4fe8-b0ea-0be406675112"
      },
      "execution_count": null,
      "outputs": [
        {
          "output_type": "stream",
          "name": "stdout",
          "text": [
            "Original array: [1. +0.j 2. +3.j 4.5+0.j 0. +0.j 7. +0.j]\n",
            "Is complex: [False  True False False False]\n",
            "Is real: [ True False  True  True  True]\n",
            "\n",
            "Scalar checks:\n",
            "scalar1 (np.array(42)) is scalar: False\n",
            "scalar2 (3.14) is scalar: True\n",
            "scalar3 (np.array([1, 2])) is scalar: False\n"
          ]
        }
      ]
    },
    {
      "cell_type": "markdown",
      "source": [
        "Write a NumPy program to test whether two arrays are element-wise equal within a tolerance."
      ],
      "metadata": {
        "id": "bZWsKwrK304h"
      }
    },
    {
      "cell_type": "code",
      "source": [
        "import numpy as np\n",
        "\n",
        "# Define two arrays\n",
        "a = np.array([1.0, 2.0, 3.00001])\n",
        "b = np.array([1.0, 2.0, 3.00002])\n",
        "\n",
        "# Check element-wise equality within a tolerance\n",
        "result_elementwise = np.isclose(a, b)\n",
        "\n",
        "# Check if all elements are close (entire array)\n",
        "result_allclose = np.allclose(a, b)\n",
        "\n",
        "# Print results\n",
        "print(\"Array A:\", a)\n",
        "print(\"Array B:\", b)\n",
        "print(\"Element-wise comparison:\", result_elementwise)\n",
        "print(\"Are all elements approximately equal?:\", result_allclose)\n"
      ],
      "metadata": {
        "colab": {
          "base_uri": "https://localhost:8080/"
        },
        "id": "yoATaaS631ny",
        "outputId": "93f949cc-65a2-406e-b923-6e43b556f784"
      },
      "execution_count": null,
      "outputs": [
        {
          "output_type": "stream",
          "name": "stdout",
          "text": [
            "Array A: [1.      2.      3.00001]\n",
            "Array B: [1.      2.      3.00002]\n",
            "Element-wise comparison: [ True  True  True]\n",
            "Are all elements approximately equal?: True\n"
          ]
        }
      ]
    },
    {
      "cell_type": "markdown",
      "source": [
        "Write a NumPy program to create an element-wise comparison (greater, greater_equal, less and less_equal) of two given arrays."
      ],
      "metadata": {
        "id": "nSFjHfFO38av"
      }
    },
    {
      "cell_type": "code",
      "source": [
        "import numpy as np\n",
        "\n",
        "# Define two arrays\n",
        "a = np.array([1, 3, 5, 7])\n",
        "b = np.array([2, 3, 4, 8])\n",
        "\n",
        "# Element-wise comparisons\n",
        "greater = np.greater(a, b)\n",
        "greater_equal = np.greater_equal(a, b)\n",
        "less = np.less(a, b)\n",
        "less_equal = np.less_equal(a, b)\n",
        "\n",
        "# Print results\n",
        "print(\"Array a:\", a)\n",
        "print(\"Array b:\", b)\n",
        "print(\"\\na > b :\", greater)\n",
        "print(\"a >= b:\", greater_equal)\n",
        "print(\"a < b :\", less)\n",
        "print(\"a <= b:\", less_equal)\n"
      ],
      "metadata": {
        "colab": {
          "base_uri": "https://localhost:8080/"
        },
        "id": "YpBKafA139aM",
        "outputId": "3488c101-939a-4873-d6f0-04229e680a2d"
      },
      "execution_count": null,
      "outputs": [
        {
          "output_type": "stream",
          "name": "stdout",
          "text": [
            "Array a: [1 3 5 7]\n",
            "Array b: [2 3 4 8]\n",
            "\n",
            "a > b : [False False  True False]\n",
            "a >= b: [False  True  True False]\n",
            "a < b : [ True False False  True]\n",
            "a <= b: [ True  True False  True]\n"
          ]
        }
      ]
    },
    {
      "cell_type": "markdown",
      "source": [
        "Write a NumPy program to create an element-wise comparison (equal, equal within a tolerance) of two given arrays.\n"
      ],
      "metadata": {
        "id": "9LQWyjk_4F0-"
      }
    },
    {
      "cell_type": "code",
      "source": [
        "import numpy as np\n",
        "\n",
        "# Define two arrays\n",
        "a = np.array([1, 3, 5, 7])\n",
        "b = np.array([2, 3, 4, 8])\n",
        "\n",
        "# Element-wise comparisons\n",
        "greater = np.greater(a, b)\n",
        "greater_equal = np.greater_equal(a, b)\n",
        "less = np.less(a, b)\n",
        "less_equal = np.less_equal(a, b)\n",
        "\n",
        "# Print results\n",
        "print(\"Array a:\", a)\n",
        "print(\"Array b:\", b)\n",
        "print(\"\\na > b :\", greater)\n",
        "print(\"a >= b:\", greater_equal)\n",
        "print(\"a < b :\", less)\n",
        "print(\"a <= b:\", less_equal)\n"
      ],
      "metadata": {
        "colab": {
          "base_uri": "https://localhost:8080/"
        },
        "id": "U9RYXcHQ4G4u",
        "outputId": "1e18791d-e92e-47d4-fe72-80c31525c7d5"
      },
      "execution_count": null,
      "outputs": [
        {
          "output_type": "stream",
          "name": "stdout",
          "text": [
            "Array a: [1 3 5 7]\n",
            "Array b: [2 3 4 8]\n",
            "\n",
            "a > b : [False False  True False]\n",
            "a >= b: [False  True  True False]\n",
            "a < b : [ True False False  True]\n",
            "a <= b: [ True  True False  True]\n"
          ]
        }
      ]
    },
    {
      "cell_type": "markdown",
      "source": [
        "Write a NumPy program to create an array with the values 1, 7, 13, 105 and determine the size of the memory occupied by the array.\n"
      ],
      "metadata": {
        "id": "MsirNXmD4JpU"
      }
    },
    {
      "cell_type": "code",
      "source": [
        "import numpy as np\n",
        "\n",
        "# Define two arrays\n",
        "a = np.array([1, 3, 5, 7])\n",
        "b = np.array([2, 3, 4, 8])\n",
        "\n",
        "# Element-wise comparisons\n",
        "greater = np.greater(a, b)\n",
        "greater_equal = np.greater_equal(a, b)\n",
        "less = np.less(a, b)\n",
        "less_equal = np.less_equal(a, b)\n",
        "\n",
        "# Print results\n",
        "print(\"Array a:\", a)\n",
        "print(\"Array b:\", b)\n",
        "print(\"\\na > b :\", greater)\n",
        "print(\"a >= b:\", greater_equal)\n",
        "print(\"a < b :\", less)\n",
        "print(\"a <= b:\", less_equal)\n"
      ],
      "metadata": {
        "colab": {
          "base_uri": "https://localhost:8080/"
        },
        "id": "9gOu6jRb4JEj",
        "outputId": "1f3bd687-2d27-4891-9677-5e06ec4dc339"
      },
      "execution_count": null,
      "outputs": [
        {
          "output_type": "stream",
          "name": "stdout",
          "text": [
            "Array a: [1 3 5 7]\n",
            "Array b: [2 3 4 8]\n",
            "\n",
            "a > b : [False False  True False]\n",
            "a >= b: [False  True  True False]\n",
            "a < b : [ True False False  True]\n",
            "a <= b: [ True  True False  True]\n"
          ]
        }
      ]
    },
    {
      "cell_type": "markdown",
      "source": [
        "Write a NumPy program to create an array of 10 zeros, 10 ones, and 10 fives."
      ],
      "metadata": {
        "id": "9qyEykbL4Rlj"
      }
    },
    {
      "cell_type": "code",
      "source": [
        "import numpy as np\n",
        "\n",
        "# Create arrays\n",
        "zeros_array = np.zeros(10, dtype=int)\n",
        "ones_array = np.ones(10, dtype=int)\n",
        "fives_array = np.full(10, 5)\n",
        "\n",
        "# Print results\n",
        "print(\"Array of 10 zeros:\", zeros_array)\n",
        "print(\"Array of 10 ones:\", ones_array)\n",
        "print(\"Array of 10 fives:\", fives_array)\n"
      ],
      "metadata": {
        "colab": {
          "base_uri": "https://localhost:8080/"
        },
        "id": "YMNMg4aL4TLl",
        "outputId": "56d80fd1-3e53-4236-b8af-976f19765d7f"
      },
      "execution_count": null,
      "outputs": [
        {
          "output_type": "stream",
          "name": "stdout",
          "text": [
            "Array of 10 zeros: [0 0 0 0 0 0 0 0 0 0]\n",
            "Array of 10 ones: [1 1 1 1 1 1 1 1 1 1]\n",
            "Array of 10 fives: [5 5 5 5 5 5 5 5 5 5]\n"
          ]
        }
      ]
    },
    {
      "cell_type": "markdown",
      "source": [
        "Write a NumPy program to create an array of integers from 30 to 70."
      ],
      "metadata": {
        "id": "k99GgTZJ4aF9"
      }
    },
    {
      "cell_type": "code",
      "source": [
        "import numpy as np\n",
        "\n",
        "# Create the array\n",
        "arr = np.arange(30, 71)  # Note: upper bound is exclusive, so use 71\n",
        "\n",
        "# Print result\n",
        "print(\"Array of integers from 30 to 70:\")\n",
        "print(arr)\n"
      ],
      "metadata": {
        "colab": {
          "base_uri": "https://localhost:8080/"
        },
        "id": "xlSajbae4bDu",
        "outputId": "2b62e6c5-7f51-4288-a6ec-b726ebcb7b21"
      },
      "execution_count": null,
      "outputs": [
        {
          "output_type": "stream",
          "name": "stdout",
          "text": [
            "Array of integers from 30 to 70:\n",
            "[30 31 32 33 34 35 36 37 38 39 40 41 42 43 44 45 46 47 48 49 50 51 52 53\n",
            " 54 55 56 57 58 59 60 61 62 63 64 65 66 67 68 69 70]\n"
          ]
        }
      ]
    },
    {
      "cell_type": "markdown",
      "source": [
        "Write a NumPy program to create an array of all even integers from 30 to 70.\n"
      ],
      "metadata": {
        "id": "OzsU1jBg4j7b"
      }
    },
    {
      "cell_type": "code",
      "source": [
        "import numpy as np\n",
        "\n",
        "# Create an array of even integers from 30 to 70\n",
        "even_arr = np.arange(30, 71, 2)  # Start at 30, end before 71, step by 2\n",
        "\n",
        "# Print the result\n",
        "print(\"Even integers from 30 to 70:\")\n",
        "print(even_arr)\n",
        "\n"
      ],
      "metadata": {
        "colab": {
          "base_uri": "https://localhost:8080/"
        },
        "id": "9Nb4o8T04k7q",
        "outputId": "b81484d3-535f-4439-c540-f4c4c182487a"
      },
      "execution_count": null,
      "outputs": [
        {
          "output_type": "stream",
          "name": "stdout",
          "text": [
            "Even integers from 30 to 70:\n",
            "[30 32 34 36 38 40 42 44 46 48 50 52 54 56 58 60 62 64 66 68 70]\n"
          ]
        }
      ]
    },
    {
      "cell_type": "markdown",
      "source": [
        "Write a NumPy program to create a 3x3 identity matrix."
      ],
      "metadata": {
        "id": "FZj5CXHQ4tRB"
      }
    },
    {
      "cell_type": "code",
      "source": [
        "import numpy as np\n",
        "\n",
        "# Create 3x3 identity matrix\n",
        "identity_matrix = np.eye(3)\n",
        "\n",
        "# Print the result\n",
        "print(\"3x3 Identity Matrix:\")\n",
        "print(identity_matrix)\n"
      ],
      "metadata": {
        "colab": {
          "base_uri": "https://localhost:8080/"
        },
        "id": "IxpOpDxl4uBn",
        "outputId": "fb463e28-24bb-4e17-c4b9-647286623ebf"
      },
      "execution_count": null,
      "outputs": [
        {
          "output_type": "stream",
          "name": "stdout",
          "text": [
            "3x3 Identity Matrix:\n",
            "[[1. 0. 0.]\n",
            " [0. 1. 0.]\n",
            " [0. 0. 1.]]\n"
          ]
        }
      ]
    },
    {
      "cell_type": "markdown",
      "source": [
        "Write a NumPy program to generate a random number between 0 and 1."
      ],
      "metadata": {
        "id": "dhqX6u6l4xtb"
      }
    },
    {
      "cell_type": "code",
      "source": [
        "import numpy as np\n",
        "\n",
        "# Generate a random float between 0 and 1\n",
        "random_number = np.random.rand()\n",
        "\n",
        "# Print the result\n",
        "print(\"Random number between 0 and 1:\", random_number)\n"
      ],
      "metadata": {
        "colab": {
          "base_uri": "https://localhost:8080/"
        },
        "id": "db4tmVd44yRR",
        "outputId": "ebee6128-4372-49fe-a010-eee4c0939aa4"
      },
      "execution_count": null,
      "outputs": [
        {
          "output_type": "stream",
          "name": "stdout",
          "text": [
            "Random number between 0 and 1: 0.6833208563256992\n"
          ]
        }
      ]
    },
    {
      "cell_type": "markdown",
      "source": [
        "Write a NumPy program to generate an array of 15 random numbers from a standard normal distribution."
      ],
      "metadata": {
        "id": "aixiHfGf42LE"
      }
    },
    {
      "cell_type": "code",
      "source": [
        "import numpy as np\n",
        "\n",
        "# Generate 15 random numbers from standard normal distribution\n",
        "random_numbers = np.random.randn(15)\n",
        "\n",
        "# Print the result\n",
        "print(\"15 random numbers from standard normal distribution:\")\n",
        "print(random_numbers)\n"
      ],
      "metadata": {
        "colab": {
          "base_uri": "https://localhost:8080/"
        },
        "id": "Kr0EWjMT4274",
        "outputId": "cc020f91-1ef0-425b-98f9-becdaa4084cd"
      },
      "execution_count": null,
      "outputs": [
        {
          "output_type": "stream",
          "name": "stdout",
          "text": [
            "15 random numbers from standard normal distribution:\n",
            "[ 0.25252522  1.26987046  0.72211124 -1.33698712  2.93318881 -0.14303886\n",
            "  0.65039651  1.00654104 -0.00647397 -0.05761209  0.48985184 -0.4222858\n",
            " -0.19201328  0.2837316   0.12091237]\n"
          ]
        }
      ]
    },
    {
      "cell_type": "markdown",
      "source": [
        "Write a NumPy program to create a vector with values ranging from 15 to 55 and print all values except the first and last."
      ],
      "metadata": {
        "id": "_XQHQeiW4-8X"
      }
    },
    {
      "cell_type": "code",
      "source": [
        "import numpy as np\n",
        "\n",
        "# Create vector from 15 to 55 (inclusive)\n",
        "vec = np.arange(15, 56)\n",
        "\n",
        "# Exclude first and last values using slicing\n",
        "trimmed_vec = vec[1:-1]\n",
        "\n",
        "# Print the result\n",
        "print(\"Vector with values from 15 to 55 (excluding first and last):\")\n",
        "print(trimmed_vec)\n"
      ],
      "metadata": {
        "colab": {
          "base_uri": "https://localhost:8080/"
        },
        "id": "0NJdZ3if4_fA",
        "outputId": "f9aab91e-9346-43d7-fa33-aa60af6fed2c"
      },
      "execution_count": null,
      "outputs": [
        {
          "output_type": "stream",
          "name": "stdout",
          "text": [
            "Vector with values from 15 to 55 (excluding first and last):\n",
            "[16 17 18 19 20 21 22 23 24 25 26 27 28 29 30 31 32 33 34 35 36 37 38 39\n",
            " 40 41 42 43 44 45 46 47 48 49 50 51 52 53 54]\n"
          ]
        }
      ]
    },
    {
      "cell_type": "markdown",
      "source": [
        "Write a NumPy program to create a 3X4 array and iterate over it."
      ],
      "metadata": {
        "id": "V5HCNpTB5GN3"
      }
    },
    {
      "cell_type": "code",
      "source": [
        "import numpy as np\n",
        "\n",
        "# Create a 3x4 array with values from 0 to 11\n",
        "arr = np.arange(12).reshape(3, 4)\n",
        "\n",
        "# Print the array\n",
        "print(\"3x4 Array:\")\n",
        "print(arr)\n",
        "\n",
        "# Iterate over the rows and elements\n",
        "print(\"\\nIterating over each element:\")\n",
        "for row in arr:\n",
        "    for elem in row:\n",
        "        print(elem, end=' ')\n"
      ],
      "metadata": {
        "colab": {
          "base_uri": "https://localhost:8080/"
        },
        "id": "MCuWqwsF5G7q",
        "outputId": "ebdcc46b-0727-4571-da03-7712056b78fc"
      },
      "execution_count": null,
      "outputs": [
        {
          "output_type": "stream",
          "name": "stdout",
          "text": [
            "3x4 Array:\n",
            "[[ 0  1  2  3]\n",
            " [ 4  5  6  7]\n",
            " [ 8  9 10 11]]\n",
            "\n",
            "Iterating over each element:\n",
            "0 1 2 3 4 5 6 7 8 9 10 11 "
          ]
        }
      ]
    },
    {
      "cell_type": "markdown",
      "source": [
        "Write a NumPy program to create a vector of length 10 with values evenly distributed between 5 and 50."
      ],
      "metadata": {
        "id": "s8ifk9-h5QfY"
      }
    },
    {
      "cell_type": "code",
      "source": [
        "import numpy as np\n",
        "\n",
        "# Create a vector with 10 evenly spaced values between 5 and 50\n",
        "vector = np.linspace(5, 50, 10)\n",
        "\n",
        "# Print the result\n",
        "print(\"Vector of length 10 with values evenly distributed between 5 and 50:\")\n",
        "print(vector)\n"
      ],
      "metadata": {
        "colab": {
          "base_uri": "https://localhost:8080/"
        },
        "id": "bbDMId3J5RAH",
        "outputId": "cbc57ab8-e5d5-453a-f54e-5e4095011cca"
      },
      "execution_count": null,
      "outputs": [
        {
          "output_type": "stream",
          "name": "stdout",
          "text": [
            "Vector of length 10 with values evenly distributed between 5 and 50:\n",
            "[ 5. 10. 15. 20. 25. 30. 35. 40. 45. 50.]\n"
          ]
        }
      ]
    },
    {
      "cell_type": "markdown",
      "source": [
        "Write a NumPy program to create a vector with values from 0 to 20 and change the sign of the numbers in the range from 9 to 15."
      ],
      "metadata": {
        "id": "-Lj9CYco5Zf8"
      }
    },
    {
      "cell_type": "code",
      "source": [
        "import numpy as np\n",
        "\n",
        "# Create a vector from 0 to 20\n",
        "vec = np.arange(21)\n",
        "\n",
        "# Change the sign of values between 9 and 15 (inclusive)\n",
        "vec[(vec >= 9) & (vec <= 15)] *= -1\n",
        "\n",
        "# Print the modified vector\n",
        "print(\"Modified vector with sign changed for values 9 to 15:\")\n",
        "print(vec)\n"
      ],
      "metadata": {
        "colab": {
          "base_uri": "https://localhost:8080/"
        },
        "id": "zrryZEQw5aSP",
        "outputId": "5e638cff-7019-44ed-9fa6-2ebcfcf972e1"
      },
      "execution_count": null,
      "outputs": [
        {
          "output_type": "stream",
          "name": "stdout",
          "text": [
            "Modified vector with sign changed for values 9 to 15:\n",
            "[  0   1   2   3   4   5   6   7   8  -9 -10 -11 -12 -13 -14 -15  16  17\n",
            "  18  19  20]\n"
          ]
        }
      ]
    },
    {
      "cell_type": "markdown",
      "source": [
        "Write a NumPy program to create a vector of length 5 filled with arbitrary integers from 0 to 10."
      ],
      "metadata": {
        "id": "wI1ZUEN85iIy"
      }
    },
    {
      "cell_type": "code",
      "source": [
        "import numpy as np\n",
        "\n",
        "# Create a vector of length 5 with random integers from 0 to 10 (inclusive of 0, exclusive of 11)\n",
        "random_vector = np.random.randint(0, 11, size=5)\n",
        "\n",
        "# Print the result\n",
        "print(\"Vector of 5 random integers from 0 to 10:\")\n",
        "print(random_vector)\n"
      ],
      "metadata": {
        "colab": {
          "base_uri": "https://localhost:8080/"
        },
        "id": "EG6ARf3m5inc",
        "outputId": "b025128e-d865-4f73-b066-cc6c1d6e5266"
      },
      "execution_count": null,
      "outputs": [
        {
          "output_type": "stream",
          "name": "stdout",
          "text": [
            "Vector of 5 random integers from 0 to 10:\n",
            "[1 9 1 2 8]\n"
          ]
        }
      ]
    },
    {
      "cell_type": "markdown",
      "source": [
        "Write a NumPy program to multiply the values of two given vectors."
      ],
      "metadata": {
        "id": "_mIG--y15tTX"
      }
    },
    {
      "cell_type": "code",
      "source": [
        "import numpy as np\n",
        "\n",
        "# Define two example vectors\n",
        "vector1 = np.array([1, 2, 3, 4, 5])\n",
        "vector2 = np.array([10, 20, 30, 40, 50])\n",
        "\n",
        "# Multiply element-wise\n",
        "result = vector1 * vector2  # or np.multiply(vector1, vector2)\n",
        "\n",
        "# Print the result\n",
        "print(\"Vector 1:\", vector1)\n",
        "print(\"Vector 2:\", vector2)\n",
        "print(\"Element-wise multiplication:\", result)\n"
      ],
      "metadata": {
        "colab": {
          "base_uri": "https://localhost:8080/"
        },
        "id": "xvRRIoMr5tx3",
        "outputId": "fc5ad53d-ca2d-4c20-f69a-f6abcb8f8f86"
      },
      "execution_count": null,
      "outputs": [
        {
          "output_type": "stream",
          "name": "stdout",
          "text": [
            "Vector 1: [1 2 3 4 5]\n",
            "Vector 2: [10 20 30 40 50]\n",
            "Element-wise multiplication: [ 10  40  90 160 250]\n"
          ]
        }
      ]
    },
    {
      "cell_type": "markdown",
      "source": [
        "Write a NumPy program to create a 3x4 matrix filled with values from 10 to 21."
      ],
      "metadata": {
        "id": "QeQOy_Af56pa"
      }
    },
    {
      "cell_type": "code",
      "source": [
        "import numpy as np\n",
        "\n",
        "# Create a 1D array with values from 10 to 21 (inclusive)\n",
        "values = np.arange(10, 22)  # 22 is exclusive\n",
        "\n",
        "# Reshape it to 3x4\n",
        "matrix = values.reshape(3, 4)\n",
        "\n",
        "# Print the result\n",
        "print(\"3x4 matrix with values from 10 to 21:\")\n",
        "print(matrix)\n"
      ],
      "metadata": {
        "colab": {
          "base_uri": "https://localhost:8080/"
        },
        "id": "Y5NxTDlj57IS",
        "outputId": "14b149cb-eb48-40af-d318-717d65734d5d"
      },
      "execution_count": null,
      "outputs": [
        {
          "output_type": "stream",
          "name": "stdout",
          "text": [
            "3x4 matrix with values from 10 to 21:\n",
            "[[10 11 12 13]\n",
            " [14 15 16 17]\n",
            " [18 19 20 21]]\n"
          ]
        }
      ]
    },
    {
      "cell_type": "markdown",
      "source": [
        "Write a NumPy program to find the number of rows and columns in a given matrix."
      ],
      "metadata": {
        "id": "8g0D-GZI6A8R"
      }
    },
    {
      "cell_type": "code",
      "source": [
        "import numpy as np\n",
        "\n",
        "# Example matrix\n",
        "matrix = np.array([[10, 20, 30],\n",
        "                   [40, 50, 60],\n",
        "                   [70, 80, 90],\n",
        "                   [100, 110, 120]])\n",
        "\n",
        "# Get the shape of the matrix\n",
        "rows, columns = matrix.shape\n",
        "\n",
        "# Print the result\n",
        "print(\"Matrix:\")\n",
        "print(matrix)\n",
        "print(f\"\\nNumber of rows: {rows}\")\n",
        "print(f\"Number of columns: {columns}\")\n"
      ],
      "metadata": {
        "colab": {
          "base_uri": "https://localhost:8080/"
        },
        "id": "4FJerHK-6Bcb",
        "outputId": "c7870e5a-36e2-4314-bd80-01f95ee6aa23"
      },
      "execution_count": null,
      "outputs": [
        {
          "output_type": "stream",
          "name": "stdout",
          "text": [
            "Matrix:\n",
            "[[ 10  20  30]\n",
            " [ 40  50  60]\n",
            " [ 70  80  90]\n",
            " [100 110 120]]\n",
            "\n",
            "Number of rows: 4\n",
            "Number of columns: 3\n"
          ]
        }
      ]
    },
    {
      "cell_type": "markdown",
      "source": [
        "Write a NumPy program to create a 3x3 identity matrix, i.e. the diagonal elements are 1, the rest are 0."
      ],
      "metadata": {
        "id": "CXA4QOfk6J0Z"
      }
    },
    {
      "cell_type": "code",
      "source": [
        "import numpy as np\n",
        "\n",
        "# Create a 3x3 identity matrix\n",
        "identity_matrix = np.eye(3)\n",
        "\n",
        "# Print the result\n",
        "print(\"3x3 Identity Matrix:\")\n",
        "print(identity_matrix)\n"
      ],
      "metadata": {
        "colab": {
          "base_uri": "https://localhost:8080/"
        },
        "id": "QViDRd3D6Kvi",
        "outputId": "6fb6a24e-006c-4a35-940e-202e2b69a375"
      },
      "execution_count": null,
      "outputs": [
        {
          "output_type": "stream",
          "name": "stdout",
          "text": [
            "3x3 Identity Matrix:\n",
            "[[1. 0. 0.]\n",
            " [0. 1. 0.]\n",
            " [0. 0. 1.]]\n"
          ]
        }
      ]
    },
    {
      "cell_type": "markdown",
      "source": [
        "Write a NumPy program to create a 10x10 matrix, in which the elements on the borders will be equal to 1, and inside 0."
      ],
      "metadata": {
        "id": "Lo1n1_oc6N9R"
      }
    },
    {
      "cell_type": "code",
      "source": [
        "import numpy as np\n",
        "\n",
        "# Create a 10x10 matrix filled with 1s\n",
        "matrix = np.ones((10, 10), dtype=int)\n",
        "\n",
        "# Set the inner elements to 0 using slicing\n",
        "matrix[1:-1, 1:-1] = 0\n",
        "\n",
        "# Print the result\n",
        "print(\"10x10 matrix with 1s on the border and 0s inside:\")\n",
        "print(matrix)\n"
      ],
      "metadata": {
        "colab": {
          "base_uri": "https://localhost:8080/"
        },
        "id": "7lPqy2Rz6PfT",
        "outputId": "1e067b8a-ad78-46d5-f536-6b52d09c2a5c"
      },
      "execution_count": null,
      "outputs": [
        {
          "output_type": "stream",
          "name": "stdout",
          "text": [
            "10x10 matrix with 1s on the border and 0s inside:\n",
            "[[1 1 1 1 1 1 1 1 1 1]\n",
            " [1 0 0 0 0 0 0 0 0 1]\n",
            " [1 0 0 0 0 0 0 0 0 1]\n",
            " [1 0 0 0 0 0 0 0 0 1]\n",
            " [1 0 0 0 0 0 0 0 0 1]\n",
            " [1 0 0 0 0 0 0 0 0 1]\n",
            " [1 0 0 0 0 0 0 0 0 1]\n",
            " [1 0 0 0 0 0 0 0 0 1]\n",
            " [1 0 0 0 0 0 0 0 0 1]\n",
            " [1 1 1 1 1 1 1 1 1 1]]\n"
          ]
        }
      ]
    },
    {
      "cell_type": "markdown",
      "source": [
        "Write a NumPy program to create a 5x5 zero matrix with elements on the main diagonal equal to 1, 2, 3, 4, 5."
      ],
      "metadata": {
        "id": "GY3-MxVu6V6e"
      }
    },
    {
      "cell_type": "code",
      "source": [
        "import numpy as np\n",
        "\n",
        "# Create a 5x5 zero matrix\n",
        "matrix = np.zeros((5, 5), dtype=int)\n",
        "\n",
        "# Set the main diagonal to [1, 2, 3, 4, 5]\n",
        "np.fill_diagonal(matrix, [1, 2, 3, 4, 5])\n",
        "\n",
        "# Print the result\n",
        "print(\"5x5 matrix with diagonal [1, 2, 3, 4, 5]:\")\n",
        "print(matrix)\n"
      ],
      "metadata": {
        "colab": {
          "base_uri": "https://localhost:8080/"
        },
        "id": "82lE0aSj6Wth",
        "outputId": "6b27ae9d-850d-4c42-910b-f4aeb4264260"
      },
      "execution_count": null,
      "outputs": [
        {
          "output_type": "stream",
          "name": "stdout",
          "text": [
            "5x5 matrix with diagonal [1, 2, 3, 4, 5]:\n",
            "[[1 0 0 0 0]\n",
            " [0 2 0 0 0]\n",
            " [0 0 3 0 0]\n",
            " [0 0 0 4 0]\n",
            " [0 0 0 0 5]]\n"
          ]
        }
      ]
    },
    {
      "cell_type": "markdown",
      "source": [
        "Write a NumPy program to create a 4x4 matrix in which 0 and 1 are staggered, with zeros on the main diagonal."
      ],
      "metadata": {
        "id": "hhXW_JsV6dCa"
      }
    },
    {
      "cell_type": "code",
      "source": [
        "import numpy as np\n",
        "\n",
        "# Create a 4x4 matrix with alternating 0s and 1s\n",
        "matrix = np.fromfunction(lambda i, j: (i + j) % 2, (4, 4), dtype=int)\n",
        "\n",
        "# Set the main diagonal to 0\n",
        "np.fill_diagonal(matrix, 0)\n",
        "\n",
        "# Print the result\n",
        "print(\"4x4 matrix with staggered 0s and 1s, diagonal = 0:\")\n",
        "print(matrix)\n"
      ],
      "metadata": {
        "colab": {
          "base_uri": "https://localhost:8080/"
        },
        "id": "WmtHvvk36dcH",
        "outputId": "04fb4417-3cb6-4562-efad-da1a9b92b159"
      },
      "execution_count": null,
      "outputs": [
        {
          "output_type": "stream",
          "name": "stdout",
          "text": [
            "4x4 matrix with staggered 0s and 1s, diagonal = 0:\n",
            "[[0 1 0 1]\n",
            " [1 0 1 0]\n",
            " [0 1 0 1]\n",
            " [1 0 1 0]]\n"
          ]
        }
      ]
    },
    {
      "cell_type": "markdown",
      "source": [
        "Write a NumPy program to create a 3x3x3 array filled with arbitrary values."
      ],
      "metadata": {
        "id": "4VXZgyKV6q9o"
      }
    },
    {
      "cell_type": "code",
      "source": [
        "import numpy as np\n",
        "\n",
        "# Create a 3x3x3 array with random integers from 0 to 99\n",
        "array = np.random.randint(0, 100, size=(3, 3, 3))\n",
        "\n",
        "# Print the result\n",
        "print(\"3x3x3 array with arbitrary values:\")\n",
        "print(array)\n"
      ],
      "metadata": {
        "id": "NzeiQkfQ6oEE"
      },
      "execution_count": null,
      "outputs": []
    },
    {
      "cell_type": "markdown",
      "source": [
        "Write a NumPy program to compute the sum of all elements, the sum of each column and the sum of each row in a given array."
      ],
      "metadata": {
        "id": "O_zJyJiy6t_4"
      }
    },
    {
      "cell_type": "code",
      "source": [
        "import numpy as np\n",
        "\n",
        "# Sample 2D array\n",
        "arr = np.array([[1, 2, 3],\n",
        "                [4, 5, 6],\n",
        "                [7, 8, 9]])\n",
        "\n",
        "# Sum of all elements\n",
        "total_sum = np.sum(arr)\n",
        "\n",
        "# Sum of each row (axis=1)\n",
        "row_sum = np.sum(arr, axis=1)\n",
        "\n",
        "# Sum of each column (axis=0)\n",
        "col_sum = np.sum(arr, axis=0)\n",
        "\n",
        "# Print results\n",
        "print(\"Original array:\")\n",
        "print(arr)\n",
        "\n",
        "print(\"\\nSum of all elements:\", total_sum)\n",
        "print(\"Sum of each row:\", row_sum)\n",
        "print(\"Sum of each column:\", col_sum)\n"
      ],
      "metadata": {
        "colab": {
          "base_uri": "https://localhost:8080/"
        },
        "id": "fuKqTb2N6udu",
        "outputId": "6fab5cac-664d-4514-84de-ef8c790553e1"
      },
      "execution_count": null,
      "outputs": [
        {
          "output_type": "stream",
          "name": "stdout",
          "text": [
            "Original array:\n",
            "[[1 2 3]\n",
            " [4 5 6]\n",
            " [7 8 9]]\n",
            "\n",
            "Sum of all elements: 45\n",
            "Sum of each row: [ 6 15 24]\n",
            "Sum of each column: [12 15 18]\n"
          ]
        }
      ]
    },
    {
      "cell_type": "markdown",
      "source": [
        "Write a NumPy program to compute the inner product of two given vectors"
      ],
      "metadata": {
        "id": "jzGk3ipx7Oua"
      }
    },
    {
      "cell_type": "code",
      "source": [
        "import numpy as np\n",
        "\n",
        "# Define two vectors\n",
        "vector1 = np.array([1, 2, 3])\n",
        "vector2 = np.array([4, 5, 6])\n",
        "\n",
        "# Compute the inner product\n",
        "inner_product = np.dot(vector1, vector2)  # or np.inner(vector1, vector2)\n",
        "\n",
        "# Print the result\n",
        "print(\"Vector 1:\", vector1)\n",
        "print(\"Vector 2:\", vector2)\n",
        "print(\"Inner Product:\", inner_product)\n"
      ],
      "metadata": {
        "colab": {
          "base_uri": "https://localhost:8080/"
        },
        "id": "pHjlBm3H7P-y",
        "outputId": "e4b56620-0536-421a-f72a-55f9e5908cea"
      },
      "execution_count": null,
      "outputs": [
        {
          "output_type": "stream",
          "name": "stdout",
          "text": [
            "Vector 1: [1 2 3]\n",
            "Vector 2: [4 5 6]\n",
            "Inner Product: 32\n"
          ]
        }
      ]
    },
    {
      "cell_type": "markdown",
      "source": [
        "Write a NumPy program to add a vector to each row of a given matrix"
      ],
      "metadata": {
        "id": "yduRJxQX7TZD"
      }
    },
    {
      "cell_type": "code",
      "source": [
        "import numpy as np\n",
        "\n",
        "# Define two vectors\n",
        "vector1 = np.array([1, 2, 3])\n",
        "vector2 = np.array([4, 5, 6])\n",
        "\n",
        "# Compute the inner product\n",
        "inner_product = np.dot(vector1, vector2)  # or np.inner(vector1, vector2)\n",
        "\n",
        "# Print the result\n",
        "print(\"Vector 1:\", vector1)\n",
        "print(\"Vector 2:\", vector2)\n",
        "print(\"Inner Product:\", inner_product)\n"
      ],
      "metadata": {
        "colab": {
          "base_uri": "https://localhost:8080/"
        },
        "id": "IdvC1cW37VOW",
        "outputId": "61b51b2f-5cbe-4d79-a31c-6d6e21038e0a"
      },
      "execution_count": null,
      "outputs": [
        {
          "output_type": "stream",
          "name": "stdout",
          "text": [
            "Vector 1: [1 2 3]\n",
            "Vector 2: [4 5 6]\n",
            "Inner Product: 32\n"
          ]
        }
      ]
    },
    {
      "cell_type": "markdown",
      "source": [
        "Write a NumPy program to save a given array to a binary file"
      ],
      "metadata": {
        "id": "TnMqsYqg7dC5"
      }
    },
    {
      "cell_type": "code",
      "source": [
        "import numpy as np\n",
        "\n",
        "# Create a sample array\n",
        "arr = np.array([[1, 2, 3], [4, 5, 6]])\n",
        "\n",
        "# Save the array to a binary file (NumPy .npy format)\n",
        "np.save('my_array.npy', arr)\n",
        "\n",
        "print(\"Array saved to 'my_array.npy'\")\n"
      ],
      "metadata": {
        "colab": {
          "base_uri": "https://localhost:8080/"
        },
        "id": "aDa2yvUC7di4",
        "outputId": "2b01bd29-e3b1-4f6c-9c16-543e25b848b3"
      },
      "execution_count": null,
      "outputs": [
        {
          "output_type": "stream",
          "name": "stdout",
          "text": [
            "Array saved to 'my_array.npy'\n"
          ]
        }
      ]
    },
    {
      "cell_type": "markdown",
      "source": [
        "Write a NumPy program to save a given array to a binary file."
      ],
      "metadata": {
        "id": "MQh33UhV7gL1"
      }
    },
    {
      "cell_type": "code",
      "source": [
        "import numpy as np\n",
        "\n",
        "# Create a sample array\n",
        "arr = np.array([[1, 2, 3], [4, 5, 6]])\n",
        "\n",
        "# Save the array to a binary file (NumPy .npy format)\n",
        "np.save('my_array.npy', arr)\n",
        "\n",
        "print(\"Array saved to 'my_array.npy'\")\n"
      ],
      "metadata": {
        "colab": {
          "base_uri": "https://localhost:8080/"
        },
        "id": "AomJzt_W7hx5",
        "outputId": "4a59a8e5-04ef-4b59-c6fd-94c706305ee4"
      },
      "execution_count": null,
      "outputs": [
        {
          "output_type": "stream",
          "name": "stdout",
          "text": [
            "Array saved to 'my_array.npy'\n"
          ]
        }
      ]
    },
    {
      "cell_type": "markdown",
      "source": [
        "Write a NumPy program to save a given array to a text file and load it."
      ],
      "metadata": {
        "id": "9WjiZupU7rve"
      }
    },
    {
      "cell_type": "code",
      "source": [
        "import numpy as np\n",
        "\n",
        "# Step 1: Create a sample NumPy array\n",
        "array = np.array([[10, 20, 30],\n",
        "                  [40, 50, 60],\n",
        "                  [70, 80, 90]])\n",
        "\n",
        "# Step 2: Save the array to a text file\n",
        "np.savetxt('my_array.txt', array, fmt='%d')  # '%d' for integer formatting\n",
        "\n",
        "print(\"Array saved to 'my_array.txt'.\")\n",
        "\n",
        "# Step 3: Load the array from the text file\n",
        "loaded_array = np.loadtxt('my_array.txt', dtype=int)\n",
        "\n",
        "# Step 4: Display the loaded array\n",
        "print(\"\\nLoaded array from 'my_array.txt':\")\n",
        "print(loaded_array)\n"
      ],
      "metadata": {
        "colab": {
          "base_uri": "https://localhost:8080/"
        },
        "id": "rYpkf0UY7tv3",
        "outputId": "78dc1c19-bf92-4f8a-8ea2-c9d97e27742c"
      },
      "execution_count": null,
      "outputs": [
        {
          "output_type": "stream",
          "name": "stdout",
          "text": [
            "Array saved to 'my_array.txt'.\n",
            "\n",
            "Loaded array from 'my_array.txt':\n",
            "[[10 20 30]\n",
            " [40 50 60]\n",
            " [70 80 90]]\n"
          ]
        }
      ]
    },
    {
      "cell_type": "markdown",
      "source": [
        "Write a NumPy program to convert a given array into bytes, and load it as an array."
      ],
      "metadata": {
        "id": "AQEF3GLd8For"
      }
    },
    {
      "cell_type": "code",
      "source": [
        "import numpy as np\n",
        "\n",
        "# Original array\n",
        "original_array = np.array([[1, 2, 3], [4, 5, 6]], dtype=np.int32)\n",
        "\n",
        "# Convert array to bytes\n",
        "array_bytes = original_array.tobytes()\n",
        "\n",
        "# Load it back into an array\n",
        "reconstructed_array = np.frombuffer(array_bytes, dtype=np.int32).reshape(original_array.shape)\n",
        "\n",
        "# Print results\n",
        "print(\"Original Array:\")\n",
        "print(original_array)\n",
        "\n",
        "print(\"\\nArray as Bytes:\")\n",
        "print(array_bytes)\n",
        "\n",
        "print(\"\\nReconstructed Array:\")\n",
        "print(reconstructed_array)\n"
      ],
      "metadata": {
        "colab": {
          "base_uri": "https://localhost:8080/"
        },
        "id": "-IPAvYIA8Hdk",
        "outputId": "302615e4-6dc5-4a7b-a342-d711dbf6dc10"
      },
      "execution_count": null,
      "outputs": [
        {
          "output_type": "stream",
          "name": "stdout",
          "text": [
            "Original Array:\n",
            "[[1 2 3]\n",
            " [4 5 6]]\n",
            "\n",
            "Array as Bytes:\n",
            "b'\\x01\\x00\\x00\\x00\\x02\\x00\\x00\\x00\\x03\\x00\\x00\\x00\\x04\\x00\\x00\\x00\\x05\\x00\\x00\\x00\\x06\\x00\\x00\\x00'\n",
            "\n",
            "Reconstructed Array:\n",
            "[[1 2 3]\n",
            " [4 5 6]]\n"
          ]
        }
      ]
    },
    {
      "cell_type": "markdown",
      "source": [
        "Write a NumPy program to convert a given list into an array, then again convert it into a list. Check initial list and final list are equal or not\n"
      ],
      "metadata": {
        "id": "VlZhgftv8SSo"
      }
    },
    {
      "cell_type": "code",
      "source": [
        "import numpy as np\n",
        "\n",
        "# Original array\n",
        "original_array = np.array([[1, 2, 3], [4, 5, 6]], dtype=np.int32)\n",
        "\n",
        "# Convert array to bytes\n",
        "array_bytes = original_array.tobytes()\n",
        "\n",
        "# Load it back into an array\n",
        "reconstructed_array = np.frombuffer(array_bytes, dtype=np.int32).reshape(original_array.shape)\n",
        "\n",
        "# Print results\n",
        "print(\"Original Array:\")\n",
        "print(original_array)\n",
        "\n",
        "print(\"\\nArray as Bytes:\")\n",
        "print(array_bytes)\n",
        "\n",
        "print(\"\\nReconstructed Array:\")\n",
        "print(reconstructed_array)\n"
      ],
      "metadata": {
        "colab": {
          "base_uri": "https://localhost:8080/"
        },
        "id": "VcRCSDZZ8Tol",
        "outputId": "513c45b5-e223-4aad-bc56-4071ef592fa6"
      },
      "execution_count": null,
      "outputs": [
        {
          "output_type": "stream",
          "name": "stdout",
          "text": [
            "Original Array:\n",
            "[[1 2 3]\n",
            " [4 5 6]]\n",
            "\n",
            "Array as Bytes:\n",
            "b'\\x01\\x00\\x00\\x00\\x02\\x00\\x00\\x00\\x03\\x00\\x00\\x00\\x04\\x00\\x00\\x00\\x05\\x00\\x00\\x00\\x06\\x00\\x00\\x00'\n",
            "\n",
            "Reconstructed Array:\n",
            "[[1 2 3]\n",
            " [4 5 6]]\n"
          ]
        }
      ]
    },
    {
      "cell_type": "markdown",
      "source": [
        "Write a NumPy program to compute the x and y coordinates for points on a sine curve and plot the points using matplotlib."
      ],
      "metadata": {
        "id": "fIKWCFMr8Zmc"
      }
    },
    {
      "cell_type": "code",
      "source": [
        "import numpy as np\n",
        "import matplotlib.pyplot as plt\n",
        "\n",
        "# Generate x values from 0 to 2π (in radians)\n",
        "x = np.linspace(0, 2 * np.pi, 100)\n",
        "\n",
        "# Compute the sine of each x value\n",
        "y = np.sin(x)\n",
        "\n",
        "# Plot the sine curve\n",
        "plt.plot(x, y, label='sin(x)', color='blue')\n",
        "\n",
        "# Add labels and title\n",
        "plt.xlabel('x (radians)')\n",
        "plt.ylabel('y = sin(x)')\n",
        "plt.title('Sine Curve')\n",
        "plt.grid(True)\n",
        "plt.legend()\n",
        "\n",
        "# Show the plot\n",
        "plt.show()\n"
      ],
      "metadata": {
        "colab": {
          "base_uri": "https://localhost:8080/",
          "height": 472
        },
        "id": "G7OKdIck8aTe",
        "outputId": "61ffc988-c341-4334-9dd0-f0f5dcba59cc"
      },
      "execution_count": null,
      "outputs": [
        {
          "output_type": "display_data",
          "data": {
            "text/plain": [
              "<Figure size 640x480 with 1 Axes>"
            ],
            "image/png": "[encoded data removed]"
          },
          "metadata": {}
        }
      ]
    },
    {
      "cell_type": "markdown",
      "source": [
        "Write a NumPy program to convert numpy dtypes to native Python types"
      ],
      "metadata": {
        "id": "8UuJI2gn8l91"
      }
    },
    {
      "cell_type": "code",
      "source": [
        "import numpy as np\n",
        "\n",
        "# Create NumPy scalar values\n",
        "np_int = np.int32(10)\n",
        "np_float = np.float64(3.14)\n",
        "np_bool = np.bool_(True)\n",
        "\n",
        "# Convert to native Python types\n",
        "py_int = np_int.item()\n",
        "py_float = np_float.item()\n",
        "py_bool = np_bool.item()\n",
        "\n",
        "# Print results and their types\n",
        "print(\"Native Python int:\", py_int, type(py_int))\n",
        "print(\"Native Python float:\", py_float, type(py_float))\n",
        "print(\"Native Python bool:\", py_bool, type(py_bool))\n"
      ],
      "metadata": {
        "colab": {
          "base_uri": "https://localhost:8080/"
        },
        "id": "BVkhNPh48mb2",
        "outputId": "8314d274-5eba-4f28-bd7d-8f8eaab2edcb"
      },
      "execution_count": null,
      "outputs": [
        {
          "output_type": "stream",
          "name": "stdout",
          "text": [
            "Native Python int: 10 <class 'int'>\n",
            "Native Python float: 3.14 <class 'float'>\n",
            "Native Python bool: True <class 'bool'>\n"
          ]
        }
      ]
    },
    {
      "cell_type": "markdown",
      "source": [
        "Write a NumPy program to add elements to a matrix. If an element in the matrix is 0, we will not add the element below this element."
      ],
      "metadata": {
        "id": "gwAmk9_r8piJ"
      }
    },
    {
      "cell_type": "code",
      "source": [
        "import numpy as np\n",
        "\n",
        "# Sample matrix\n",
        "matrix = np.array([\n",
        "    [1, 2, 0],\n",
        "    [3, 0, 4],\n",
        "    [5, 6, 7]\n",
        "])\n",
        "\n",
        "# Get the shape\n",
        "rows, cols = matrix.shape\n",
        "\n",
        "# Result array to hold the column sums with the condition\n",
        "col_sums = np.zeros(cols, dtype=int)\n",
        "\n",
        "# Process each column\n",
        "for col in range(cols):\n",
        "    for row in range(rows):\n",
        "        if matrix[row, col] == 0:\n",
        "            break  # Stop adding if element is zero\n",
        "        col_sums[col] += matrix[row, col]\n",
        "\n",
        "# Output\n",
        "print(\"Original Matrix:\")\n",
        "print(matrix)\n",
        "print(\"\\nConditional Column Sums (skip below 0):\")\n",
        "print(col_sums)\n"
      ],
      "metadata": {
        "colab": {
          "base_uri": "https://localhost:8080/"
        },
        "id": "ZVSIzMqZ8qGO",
        "outputId": "ac72e2c9-acba-454d-872b-cf43ce262dd5"
      },
      "execution_count": null,
      "outputs": [
        {
          "output_type": "stream",
          "name": "stdout",
          "text": [
            "Original Matrix:\n",
            "[[1 2 0]\n",
            " [3 0 4]\n",
            " [5 6 7]]\n",
            "\n",
            "Conditional Column Sums (skip below 0):\n",
            "[9 2 0]\n"
          ]
        }
      ]
    },
    {
      "cell_type": "markdown",
      "source": [
        "Write a NumPy program to find missing data in a given array."
      ],
      "metadata": {
        "id": "stdpg0SH8209"
      }
    },
    {
      "cell_type": "code",
      "source": [
        "import numpy as np\n",
        "\n",
        "# Example array with missing data (np.nan)\n",
        "arr = np.array([[1, 2, np.nan],\n",
        "                [4, np.nan, 6],\n",
        "                [7, 8, 9]])\n",
        "\n",
        "# Find the positions of missing data\n",
        "missing_mask = np.isnan(arr)\n",
        "\n",
        "# Print results\n",
        "print(\"Original Array:\")\n",
        "print(arr)\n",
        "\n",
        "print(\"\\nMissing Data Mask (True = missing):\")\n",
        "print(missing_mask)\n",
        "\n",
        "print(\"\\nIndices of Missing Values:\")\n",
        "print(np.argwhere(missing_mask))\n"
      ],
      "metadata": {
        "colab": {
          "base_uri": "https://localhost:8080/"
        },
        "id": "EIDqj7Jy83Qp",
        "outputId": "fd4c033c-d0eb-47c4-ea08-e604cf382030"
      },
      "execution_count": null,
      "outputs": [
        {
          "output_type": "stream",
          "name": "stdout",
          "text": [
            "Original Array:\n",
            "[[ 1.  2. nan]\n",
            " [ 4. nan  6.]\n",
            " [ 7.  8.  9.]]\n",
            "\n",
            "Missing Data Mask (True = missing):\n",
            "[[False False  True]\n",
            " [False  True False]\n",
            " [False False False]]\n",
            "\n",
            "Indices of Missing Values:\n",
            "[[0 2]\n",
            " [1 1]]\n"
          ]
        }
      ]
    },
    {
      "cell_type": "markdown",
      "source": [
        "Write a NumPy program to check whether two arrays are equal (element wise) or not."
      ],
      "metadata": {
        "id": "nmJWfCG187d3"
      }
    },
    {
      "cell_type": "code",
      "source": [
        "import numpy as np\n",
        "\n",
        "# Example array with missing data (np.nan)\n",
        "arr = np.array([[1, 2, np.nan],\n",
        "                [4, np.nan, 6],\n",
        "                [7, 8, 9]])\n",
        "\n",
        "# Find the positions of missing data\n",
        "missing_mask = np.isnan(arr)\n",
        "\n",
        "# Print results\n",
        "print(\"Original Array:\")\n",
        "print(arr)\n",
        "\n",
        "print(\"\\nMissing Data Mask (True = missing):\")\n",
        "print(missing_mask)\n",
        "\n",
        "print(\"\\nIndices of Missing Values:\")\n",
        "print(np.argwhere(missing_mask))\n"
      ],
      "metadata": {
        "colab": {
          "base_uri": "https://localhost:8080/"
        },
        "id": "SIUFi3qt877d",
        "outputId": "292e522c-ee95-498e-c97c-c72f9ae4c8cd"
      },
      "execution_count": null,
      "outputs": [
        {
          "output_type": "stream",
          "name": "stdout",
          "text": [
            "Original Array:\n",
            "[[ 1.  2. nan]\n",
            " [ 4. nan  6.]\n",
            " [ 7.  8.  9.]]\n",
            "\n",
            "Missing Data Mask (True = missing):\n",
            "[[False False  True]\n",
            " [False  True False]\n",
            " [False False False]]\n",
            "\n",
            "Indices of Missing Values:\n",
            "[[0 2]\n",
            " [1 1]]\n"
          ]
        }
      ]
    },
    {
      "cell_type": "markdown",
      "source": [
        "Write a NumPy program to create a one-dimensional array of single, two and three-digit numbers."
      ],
      "metadata": {
        "id": "Iv5WFgvs8_14"
      }
    },
    {
      "cell_type": "code",
      "source": [
        "import numpy as np\n",
        "\n",
        "# Create ranges for 1-digit, 2-digit, and 3-digit numbers\n",
        "single_digit = np.arange(1, 10)       # 1 to 9\n",
        "two_digit    = np.arange(10, 100)     # 10 to 99\n",
        "three_digit  = np.arange(100, 1000)   # 100 to 999\n",
        "\n",
        "# Concatenate into one 1D array\n",
        "combined_array = np.concatenate((single_digit, two_digit, three_digit))\n",
        "\n",
        "# Print the result\n",
        "print(\"1D array of 1-, 2-, and 3-digit numbers:\")\n",
        "print(combined_array)\n"
      ],
      "metadata": {
        "colab": {
          "base_uri": "https://localhost:8080/"
        },
        "id": "gds-woto9Bg6",
        "outputId": "ae3b08b1-9c46-4a6c-c0de-f2028ddcbf4e"
      },
      "execution_count": null,
      "outputs": [
        {
          "output_type": "stream",
          "name": "stdout",
          "text": [
            "1D array of 1-, 2-, and 3-digit numbers:\n",
            "[  1   2   3   4   5   6   7   8   9  10  11  12  13  14  15  16  17  18\n",
            "  19  20  21  22  23  24  25  26  27  28  29  30  31  32  33  34  35  36\n",
            "  37  38  39  40  41  42  43  44  45  46  47  48  49  50  51  52  53  54\n",
            "  55  56  57  58  59  60  61  62  63  64  65  66  67  68  69  70  71  72\n",
            "  73  74  75  76  77  78  79  80  81  82  83  84  85  86  87  88  89  90\n",
            "  91  92  93  94  95  96  97  98  99 100 101 102 103 104 105 106 107 108\n",
            " 109 110 111 112 113 114 115 116 117 118 119 120 121 122 123 124 125 126\n",
            " 127 128 129 130 131 132 133 134 135 136 137 138 139 140 141 142 143 144\n",
            " 145 146 147 148 149 150 151 152 153 154 155 156 157 158 159 160 161 162\n",
            " 163 164 165 166 167 168 169 170 171 172 173 174 175 176 177 178 179 180\n",
            " 181 182 183 184 185 186 187 188 189 190 191 192 193 194 195 196 197 198\n",
            " 199 200 201 202 203 204 205 206 207 208 209 210 211 212 213 214 215 216\n",
            " 217 218 219 220 221 222 223 224 225 226 227 228 229 230 231 232 233 234\n",
            " 235 236 237 238 239 240 241 242 243 244 245 246 247 248 249 250 251 252\n",
            " 253 254 255 256 257 258 259 260 261 262 263 264 265 266 267 268 269 270\n",
            " 271 272 273 274 275 276 277 278 279 280 281 282 283 284 285 286 287 288\n",
            " 289 290 291 292 293 294 295 296 297 298 299 300 301 302 303 304 305 306\n",
            " 307 308 309 310 311 312 313 314 315 316 317 318 319 320 321 322 323 324\n",
            " 325 326 327 328 329 330 331 332 333 334 335 336 337 338 339 340 341 342\n",
            " 343 344 345 346 347 348 349 350 351 352 353 354 355 356 357 358 359 360\n",
            " 361 362 363 364 365 366 367 368 369 370 371 372 373 374 375 376 377 378\n",
            " 379 380 381 382 383 384 385 386 387 388 389 390 391 392 393 394 395 396\n",
            " 397 398 399 400 401 402 403 404 405 406 407 408 409 410 411 412 413 414\n",
            " 415 416 417 418 419 420 421 422 423 424 425 426 427 428 429 430 431 432\n",
            " 433 434 435 436 437 438 439 440 441 442 443 444 445 446 447 448 449 450\n",
            " 451 452 453 454 455 456 457 458 459 460 461 462 463 464 465 466 467 468\n",
            " 469 470 471 472 473 474 475 476 477 478 479 480 481 482 483 484 485 486\n",
            " 487 488 489 490 491 492 493 494 495 496 497 498 499 500 501 502 503 504\n",
            " 505 506 507 508 509 510 511 512 513 514 515 516 517 518 519 520 521 522\n",
            " 523 524 525 526 527 528 529 530 531 532 533 534 535 536 537 538 539 540\n",
            " 541 542 543 544 545 546 547 548 549 550 551 552 553 554 555 556 557 558\n",
            " 559 560 561 562 563 564 565 566 567 568 569 570 571 572 573 574 575 576\n",
            " 577 578 579 580 581 582 583 584 585 586 587 588 589 590 591 592 593 594\n",
            " 595 596 597 598 599 600 601 602 603 604 605 606 607 608 609 610 611 612\n",
            " 613 614 615 616 617 618 619 620 621 622 623 624 625 626 627 628 629 630\n",
            " 631 632 633 634 635 636 637 638 639 640 641 642 643 644 645 646 647 648\n",
            " 649 650 651 652 653 654 655 656 657 658 659 660 661 662 663 664 665 666\n",
            " 667 668 669 670 671 672 673 674 675 676 677 678 679 680 681 682 683 684\n",
            " 685 686 687 688 689 690 691 692 693 694 695 696 697 698 699 700 701 702\n",
            " 703 704 705 706 707 708 709 710 711 712 713 714 715 716 717 718 719 720\n",
            " 721 722 723 724 725 726 727 728 729 730 731 732 733 734 735 736 737 738\n",
            " 739 740 741 742 743 744 745 746 747 748 749 750 751 752 753 754 755 756\n",
            " 757 758 759 760 761 762 763 764 765 766 767 768 769 770 771 772 773 774\n",
            " 775 776 777 778 779 780 781 782 783 784 785 786 787 788 789 790 791 792\n",
            " 793 794 795 796 797 798 799 800 801 802 803 804 805 806 807 808 809 810\n",
            " 811 812 813 814 815 816 817 818 819 820 821 822 823 824 825 826 827 828\n",
            " 829 830 831 832 833 834 835 836 837 838 839 840 841 842 843 844 845 846\n",
            " 847 848 849 850 851 852 853 854 855 856 857 858 859 860 861 862 863 864\n",
            " 865 866 867 868 869 870 871 872 873 874 875 876 877 878 879 880 881 882\n",
            " 883 884 885 886 887 888 889 890 891 892 893 894 895 896 897 898 899 900\n",
            " 901 902 903 904 905 906 907 908 909 910 911 912 913 914 915 916 917 918\n",
            " 919 920 921 922 923 924 925 926 927 928 929 930 931 932 933 934 935 936\n",
            " 937 938 939 940 941 942 943 944 945 946 947 948 949 950 951 952 953 954\n",
            " 955 956 957 958 959 960 961 962 963 964 965 966 967 968 969 970 971 972\n",
            " 973 974 975 976 977 978 979 980 981 982 983 984 985 986 987 988 989 990\n",
            " 991 992 993 994 995 996 997 998 999]\n"
          ]
        }
      ]
    },
    {
      "cell_type": "markdown",
      "source": [
        "Write a NumPy program to create a two-dimensional array of a specified format."
      ],
      "metadata": {
        "id": "3MyExWKJ9JcJ"
      }
    },
    {
      "cell_type": "code",
      "source": [
        "import numpy as np\n",
        "\n",
        "array = np.eye(3)\n",
        "print(\"3x3 Identity Matrix:\")\n",
        "print(array)\n"
      ],
      "metadata": {
        "colab": {
          "base_uri": "https://localhost:8080/"
        },
        "id": "0DYJEr9j9J8W",
        "outputId": "f7d39b42-7d8b-4fb1-d42a-27b7fcccf25d"
      },
      "execution_count": null,
      "outputs": [
        {
          "output_type": "stream",
          "name": "stdout",
          "text": [
            "3x3 Identity Matrix:\n",
            "[[1. 0. 0.]\n",
            " [0. 1. 0.]\n",
            " [0. 0. 1.]]\n"
          ]
        }
      ]
    },
    {
      "cell_type": "code",
      "source": [
        "array = np.ones((4, 4), dtype=int)\n",
        "array[1:-1, 1:-1] = 0\n",
        "print(\"4x4 Matrix with Border 1s and Inside 0s:\")\n",
        "print(array)\n"
      ],
      "metadata": {
        "colab": {
          "base_uri": "https://localhost:8080/"
        },
        "id": "9ieqXo4X9OB3",
        "outputId": "190d3292-0dab-48f2-afac-31064d5439c0"
      },
      "execution_count": null,
      "outputs": [
        {
          "output_type": "stream",
          "name": "stdout",
          "text": [
            "4x4 Matrix with Border 1s and Inside 0s:\n",
            "[[1 1 1 1]\n",
            " [1 0 0 1]\n",
            " [1 0 0 1]\n",
            " [1 1 1 1]]\n"
          ]
        }
      ]
    },
    {
      "cell_type": "markdown",
      "source": [
        "Write a NumPy program to create a one-dimensional array of forty pseudo-randomly generated values. Select random numbers from a uniform distribution between 0 and 1."
      ],
      "metadata": {
        "id": "nu653DFb9YVk"
      }
    },
    {
      "cell_type": "code",
      "source": [
        "import numpy as np\n",
        "\n",
        "# Generate 40 random values between 0 and 1\n",
        "random_array = np.random.rand(40)\n",
        "\n",
        "# Print the array\n",
        "print(\"One-dimensional array of 40 random values (0 to 1):\")\n",
        "print(random_array)\n"
      ],
      "metadata": {
        "colab": {
          "base_uri": "https://localhost:8080/"
        },
        "id": "Bric4TbW9Y9d",
        "outputId": "8b1a13a1-d33c-478a-b95a-9293c6335f97"
      },
      "execution_count": null,
      "outputs": [
        {
          "output_type": "stream",
          "name": "stdout",
          "text": [
            "One-dimensional array of 40 random values (0 to 1):\n",
            "[0.33649329 0.72107716 0.10710966 0.91205629 0.85612563 0.57515485\n",
            " 0.18926442 0.8769724  0.70156478 0.62275188 0.13372431 0.55700467\n",
            " 0.66436716 0.28056845 0.79666864 0.03332038 0.07431826 0.21988583\n",
            " 0.82047108 0.8899346  0.56077884 0.84975693 0.10685951 0.72028669\n",
            " 0.427328   0.95506087 0.24029689 0.71392718 0.51368013 0.8756136\n",
            " 0.18887541 0.65784916 0.30427627 0.50281357 0.20301767 0.3691306\n",
            " 0.74435823 0.60803752 0.52493111 0.7127643 ]\n"
          ]
        }
      ]
    },
    {
      "cell_type": "markdown",
      "source": [
        "Write a NumPy program to create a two-dimensional array with shape (8,5) of random numbers. Select random numbers from a normal distribution (200,7)."
      ],
      "metadata": {
        "id": "7omzYHbY9cnt"
      }
    },
    {
      "cell_type": "code",
      "source": [
        "import numpy as np\n",
        "\n",
        "# Generate a 2D array of shape (8, 5) from a normal distribution (mean=200, std=7)\n",
        "array = np.random.normal(loc=200, scale=7, size=(8, 5))\n",
        "\n",
        "# Print the result\n",
        "print(\"2D Array (8x5) with values from N(200, 7):\")\n",
        "print(array)\n"
      ],
      "metadata": {
        "colab": {
          "base_uri": "https://localhost:8080/"
        },
        "id": "J1K8E-9W9fKk",
        "outputId": "aca0dd87-2eb7-40f9-d3f8-24f9a767e4b4"
      },
      "execution_count": null,
      "outputs": [
        {
          "output_type": "stream",
          "name": "stdout",
          "text": [
            "2D Array (8x5) with values from N(200, 7):\n",
            "[[189.80244324 207.84349329 207.07982925 198.86463636 202.72935483]\n",
            " [195.36432229 210.58744236 214.39769661 200.31209171 199.23941794]\n",
            " [184.32323389 200.28153573 199.10547186 203.17891104 193.59803036]\n",
            " [196.42960097 208.33600952 195.39912239 204.45591111 204.84904504]\n",
            " [204.73227341 197.80292642 197.21020915 201.96149328 194.16878159]\n",
            " [204.90698059 204.13141727 197.21520145 199.30764353 208.11059061]\n",
            " [201.56160484 201.5801116  197.7758697  201.12248257 193.74458671]\n",
            " [192.45184934 189.49134017 198.36864957 196.39577517 195.92702194]]\n"
          ]
        }
      ]
    },
    {
      "cell_type": "markdown",
      "source": [
        "Write a NumPy program to generate a uniform, non-uniform random sample from a given 1-D array with and without replacement."
      ],
      "metadata": {
        "id": "x7lV-Ljp9muK"
      }
    },
    {
      "cell_type": "code",
      "source": [
        "import numpy as np\n",
        "\n",
        "# Given 1D array\n",
        "arr = np.array([10, 20, 30, 40, 50])\n",
        "\n",
        "# ----------------------------\n",
        "# 1. Uniform sampling WITH replacement\n",
        "uniform_with_replacement = np.random.choice(arr, size=5, replace=True)\n",
        "print(\"Uniform sample with replacement:\")\n",
        "print(uniform_with_replacement)\n",
        "\n",
        "# 2. Uniform sampling WITHOUT replacement\n",
        "uniform_without_replacement = np.random.choice(arr, size=5, replace=False)\n",
        "print(\"\\nUniform sample without replacement:\")\n",
        "print(uniform_without_replacement)\n",
        "\n",
        "# ----------------------------\n",
        "# Define custom (non-uniform) probabilities\n",
        "probabilities = [0.1, 0.2, 0.4, 0.2, 0.1]  # Must sum to 1\n",
        "\n",
        "# 3. Non-uniform sampling WITH replacement\n",
        "nonuniform_with_replacement = np.random.choice(arr, size=5, replace=True, p=probabilities)\n",
        "print(\"\\nNon-uniform sample with replacement:\")\n",
        "print(nonuniform_with_replacement)\n",
        "\n",
        "# 4. Non-uniform sampling WITHOUT replacement\n",
        "nonuniform_without_replacement = np.random.choice(arr, size=5, replace=False, p=probabilities)\n",
        "print(\"\\nNon-uniform sample without replacement:\")\n",
        "print(nonuniform_without_replacement)\n"
      ],
      "metadata": {
        "colab": {
          "base_uri": "https://localhost:8080/"
        },
        "id": "yU_GkEWC9ni0",
        "outputId": "c5c5ca9a-8e82-4f0b-e270-f4e6d320e78e"
      },
      "execution_count": null,
      "outputs": [
        {
          "output_type": "stream",
          "name": "stdout",
          "text": [
            "Uniform sample with replacement:\n",
            "[30 20 10 50 30]\n",
            "\n",
            "Uniform sample without replacement:\n",
            "[20 30 40 50 10]\n",
            "\n",
            "Non-uniform sample with replacement:\n",
            "[20 20 10 30 30]\n",
            "\n",
            "Non-uniform sample without replacement:\n",
            "[30 20 50 10 40]\n"
          ]
        }
      ]
    },
    {
      "cell_type": "markdown",
      "source": [
        "Write a NumPy program to create a 4x4 array with random values. Create an array from the said array swapping first and last rows."
      ],
      "metadata": {
        "id": "ErHzsnpp9qjQ"
      }
    },
    {
      "cell_type": "code",
      "source": [
        "import numpy as np\n",
        "\n",
        "# Step 1: Create a 4x4 array with random values\n",
        "original_array = np.random.rand(4, 4)\n",
        "\n",
        "# Step 2: Swap the first and last rows\n",
        "swapped_array = original_array.copy()\n",
        "swapped_array[[0, -1]] = swapped_array[[-1, 0]]\n",
        "\n",
        "# Display the results\n",
        "print(\"Original 4x4 Array:\")\n",
        "print(original_array)\n",
        "\n",
        "print(\"\\nArray after swapping first and last rows:\")\n",
        "print(swapped_array)\n"
      ],
      "metadata": {
        "colab": {
          "base_uri": "https://localhost:8080/"
        },
        "id": "Q3n89xAo9sIb",
        "outputId": "f9ab86a7-9188-4755-92c0-06287b7cbb26"
      },
      "execution_count": null,
      "outputs": [
        {
          "output_type": "stream",
          "name": "stdout",
          "text": [
            "Original 4x4 Array:\n",
            "[[0.22481333 0.4441628  0.03324173 0.34420354]\n",
            " [0.27438869 0.15448164 0.68506242 0.28821348]\n",
            " [0.99336481 0.52910624 0.63579086 0.21325198]\n",
            " [0.94880866 0.6738293  0.32244528 0.47758585]]\n",
            "\n",
            "Array after swapping first and last rows:\n",
            "[[0.94880866 0.6738293  0.32244528 0.47758585]\n",
            " [0.27438869 0.15448164 0.68506242 0.28821348]\n",
            " [0.99336481 0.52910624 0.63579086 0.21325198]\n",
            " [0.22481333 0.4441628  0.03324173 0.34420354]]\n"
          ]
        }
      ]
    }
  ]
}