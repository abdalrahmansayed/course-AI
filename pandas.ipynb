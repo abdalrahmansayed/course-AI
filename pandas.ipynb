{
  "nbformat": 4,
  "nbformat_minor": 0,
  "metadata": {
    "colab": {
      "provenance": []
    },
    "kernelspec": {
      "name": "python3",
      "display_name": "Python 3"
    },
    "language_info": {
      "name": "python"
    }
  },
  "cells": [
    {
      "cell_type": "code",
      "execution_count": null,
      "metadata": {
        "colab": {
          "base_uri": "https://localhost:8080/"
        },
        "id": "Qo5h6VfpEOWr",
        "outputId": "70b4ddf1-3db1-4d8c-ce6c-4911991f6d21"
      },
      "outputs": [
        {
          "output_type": "stream",
          "name": "stdout",
          "text": [
            "Sorted by Index (Ascending):\n",
            "       Name  Age\n",
            "1      Bob   30\n",
            "2    Alice   25\n",
            "3  Charlie   22\n",
            "\n",
            "Sorted by Index (Descending):\n",
            "       Name  Age\n",
            "3  Charlie   22\n",
            "2    Alice   25\n",
            "1      Bob   30\n"
          ]
        }
      ],
      "source": [
        "import pandas as pd\n",
        "\n",
        "# Sample DataFrame\n",
        "df = pd.DataFrame({\n",
        "    'Name': ['Alice', 'Bob', 'Charlie'],\n",
        "    'Age': [25, 30, 22]\n",
        "}, index=[2, 1, 3])\n",
        "\n",
        "# Sort by index (ascending)\n",
        "df_sorted_by_index = df.sort_index()\n",
        "\n",
        "# Sort by index (descending)\n",
        "df_sorted_by_index_desc = df.sort_index(ascending=False)\n",
        "\n",
        "print(\"Sorted by Index (Ascending):\\n\", df_sorted_by_index)\n",
        "print(\"\\nSorted by Index (Descending):\\n\", df_sorted_by_index_desc)\n"
      ]
    },
    {
      "cell_type": "code",
      "source": [
        "# Sort by the 'Age' column (ascending)\n",
        "df_sorted_by_age = df.sort_values(by='Age')\n",
        "\n",
        "# Sort by the 'Age' column (descending)\n",
        "df_sorted_by_age_desc = df.sort_values(by='Age', ascending=False)\n",
        "\n",
        "print(\"Sorted by Age (Ascending):\\n\", df_sorted_by_age)\n",
        "print(\"\\nSorted by Age (Descending):\\n\", df_sorted_by_age_desc)\n"
      ],
      "metadata": {
        "colab": {
          "base_uri": "https://localhost:8080/"
        },
        "id": "8y15w9KOEQlB",
        "outputId": "44fb561c-37d9-4f6a-eb9b-fcb8e2395664"
      },
      "execution_count": null,
      "outputs": [
        {
          "output_type": "stream",
          "name": "stdout",
          "text": [
            "Sorted by Age (Ascending):\n",
            "       Name  Age\n",
            "3  Charlie   22\n",
            "2    Alice   25\n",
            "1      Bob   30\n",
            "\n",
            "Sorted by Age (Descending):\n",
            "       Name  Age\n",
            "1      Bob   30\n",
            "2    Alice   25\n",
            "3  Charlie   22\n"
          ]
        }
      ]
    }
  ]
}