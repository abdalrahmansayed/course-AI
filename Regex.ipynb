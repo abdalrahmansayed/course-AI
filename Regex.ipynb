{
  "nbformat": 4,
  "nbformat_minor": 0,
  "metadata": {
    "colab": {
      "provenance": []
    },
    "kernelspec": {
      "name": "python3",
      "display_name": "Python 3"
    },
    "language_info": {
      "name": "python"
    }
  },
  "cells": [
    {
      "cell_type": "markdown",
      "source": [
        "# Save this as `contacts.txt`\n",
        "Ahmed Hafez 0102345678 ahmed@gmail.com\n",
        "Ali Osama 0124342342 ali@gmail.com\n"
      ],
      "metadata": {
        "id": "MfP2LvOyaHAy"
      }
    },
    {
      "cell_type": "code",
      "source": [
        "#  Create the file first\n",
        "with open(\"contacts.txt\", \"w\") as file:\n",
        "    file.write(\"ahmed@gmail.com,0102345678,Ahmed Hafez\\n\")\n",
        "    file.write(\"Ali Osama - ali@gmail.com - 0124342342\\n\")\n",
        "    file.write(\"0123434343 | Mona Ali Hassan | mona@gmail.com\\n\")\n"
      ],
      "metadata": {
        "id": "0YH4nvg_sq39"
      },
      "execution_count": null,
      "outputs": []
    },
    {
      "cell_type": "code",
      "source": [
        "# Step 2: Now read and process the file\n",
        "import re\n",
        "\n",
        "# Regular expressions for phone and email\n",
        "phone_pattern = re.compile(r\"\\b01[0-9]{9}\\b\")\n",
        "email_pattern = re.compile(r\"\\b[\\w\\.-]+@[\\w\\.-]+\\.\\w+\\b\")\n",
        "# Prepare the lists\n",
        "names = []\n",
        "phones = []\n",
        "emails = []\n",
        "\n"
      ],
      "metadata": {
        "id": "Mkuopo9Nssbv"
      },
      "execution_count": 10,
      "outputs": []
    },
    {
      "cell_type": "code",
      "source": [
        "with open(\"contacts.txt\", \"r\") as file:\n",
        "    lines = file.readlines()  # ✅ this line defines 'lines'\n"
      ],
      "metadata": {
        "id": "Tg448VQFsxkX"
      },
      "execution_count": 12,
      "outputs": []
    },
    {
      "cell_type": "code",
      "source": [],
      "metadata": {
        "id": "EiMdSMFfsxhI"
      },
      "execution_count": 12,
      "outputs": []
    },
    {
      "cell_type": "code",
      "source": [
        "# Loop through each line and process\n",
        "for line in lines:\n",
        "    phone = phone_pattern.search(line)\n",
        "    email = email_pattern.search(line)\n",
        "\n",
        "    # Clean the line from phone and email to extract name\n",
        "    cleaned_line = line\n",
        "    if phone:\n",
        "        cleaned_line = cleaned_line.replace(phone.group(), \"\")\n",
        "    if email:\n",
        "        cleaned_line = cleaned_line.replace(email.group(), \"\")\n",
        "\n",
        "    cleaned_line = re.sub(r\"[,\\-|]\", \" \", cleaned_line)\n",
        "    name = \" \".join(cleaned_line.split()).strip()\n",
        "\n",
        "    if name:\n",
        "        names.append(name)\n",
        "    if phone:\n",
        "        phones.append(phone.group())\n",
        "    if email:\n",
        "        emails.append(email.group())\n",
        "\n",
        "# Print the output\n",
        "print(\"Names:\", names)\n",
        "print(\"Phone Numbers:\", phones)\n",
        "print(\"Emails:\", emails)\n"
      ],
      "metadata": {
        "colab": {
          "base_uri": "https://localhost:8080/"
        },
        "id": "l0We1Xj3aPH9",
        "outputId": "ada5de41-5125-4e10-86d1-3154a1bd7d3f"
      },
      "execution_count": 13,
      "outputs": [
        {
          "output_type": "stream",
          "name": "stdout",
          "text": [
            "Names: ['0102345678 Ahmed Hafez', 'Ali Osama 0124342342', '0123434343 Mona Ali Hassan', '0102345678 Ahmed Hafez', 'Ali Osama 0124342342', '0123434343 Mona Ali Hassan']\n",
            "Phone Numbers: []\n",
            "Emails: ['ahmed@gmail.com', 'ali@gmail.com', 'mona@gmail.com', 'ahmed@gmail.com', 'ali@gmail.com', 'mona@gmail.com']\n"
          ]
        }
      ]
    }
  ]
}